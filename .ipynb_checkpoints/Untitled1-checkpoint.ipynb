{
 "cells": [
  {
   "cell_type": "code",
   "execution_count": 91,
   "id": "772ec581-7599-4c70-aa13-863c6484a186",
   "metadata": {},
   "outputs": [],
   "source": [
    "from essentials import time_dec"
   ]
  },
  {
   "cell_type": "code",
   "execution_count": null,
   "id": "8b50b7fb-bd0f-44a9-9a97-a634b5f1102b",
   "metadata": {},
   "outputs": [],
   "source": []
  },
  {
   "cell_type": "code",
   "execution_count": 92,
   "id": "33fedb5e-a246-445e-ba5a-271317393b53",
   "metadata": {},
   "outputs": [],
   "source": [
    "@time_dec\n",
    "def ispallindrome(str):\n",
    "    if str == str[::-1]:\n",
    "        return True \n",
    "    return False\n",
    "\n",
    "# we  all know  this  basic  one  , which  works  only for string but  one of the worst code if  i  say and  noob  thing to do   a  code \n",
    "\n",
    "#  One  of the  good  way to  use the  two pointer approach "
   ]
  },
  {
   "cell_type": "code",
   "execution_count": 93,
   "id": "882e24d7-df09-47fa-8e28-7f37714a4cbb",
   "metadata": {},
   "outputs": [],
   "source": [
    "# ispallindrome(1554)     when  comes  to the number it  sucks....."
   ]
  },
  {
   "cell_type": "code",
   "execution_count": 94,
   "id": "3b62aaf8-682e-4316-9c89-f2500df117ab",
   "metadata": {},
   "outputs": [],
   "source": [
    "# let's  try to  make it more  powerful and good  one using two  pointer approach\n",
    "@time_dec\n",
    "def is_pallindrome(lop):\n",
    "    \n",
    "    l = 0\n",
    "    r = len(lop) - 1\n",
    "    while(l<=r):\n",
    "        if lop[l] != lop[r]:\n",
    "            return False\n",
    "\n",
    "        l += 1\n",
    "        r -= 1\n",
    "    return True \n",
    "\n",
    "\n",
    "# what is  happening  ,  see  here  we are using the  two pointer  one is at start and other is  at the end  and we are  seeing if each element at\n",
    "# that pointer pos  equal  ,if  all are equal  until  they cross  then they are the pallindrome else  they are not  okay \n",
    "\n",
    "# IT is one of the  simple  and  best loop working if  i say see  we  are just checking if there is an array in the  the thing  then  it is  False\n",
    "# else it  will goo  whole  loop   , it  will only break  when there is False condition triggered \n",
    "\n",
    "# whole  running without  break  ----> True \n",
    "# Running and  break with some condition  -----> False"
   ]
  },
  {
   "cell_type": "code",
   "execution_count": null,
   "id": "c0fc9a4b-253c-42c1-a524-aba94c07dfec",
   "metadata": {},
   "outputs": [],
   "source": []
  },
  {
   "cell_type": "code",
   "execution_count": 95,
   "id": "378271ff-8c4f-41eb-ac8c-2d8c5b645239",
   "metadata": {},
   "outputs": [
    {
     "name": "stdout",
     "output_type": "stream",
     "text": [
      "The time taken by Program  :  -1.430511474609375e-06 Seconds\n"
     ]
    },
    {
     "data": {
      "text/plain": [
       "True"
      ]
     },
     "execution_count": 95,
     "metadata": {},
     "output_type": "execute_result"
    }
   ],
   "source": [
    "ispallindrome('racecar') "
   ]
  },
  {
   "cell_type": "code",
   "execution_count": 96,
   "id": "5f87cb74-e8bd-4edc-bb51-c30c2a863906",
   "metadata": {},
   "outputs": [
    {
     "name": "stdout",
     "output_type": "stream",
     "text": [
      "The time taken by Program  :  -2.384185791015625e-06 Seconds\n"
     ]
    },
    {
     "data": {
      "text/plain": [
       "True"
      ]
     },
     "execution_count": 96,
     "metadata": {},
     "output_type": "execute_result"
    }
   ],
   "source": [
    "is_pallindrome('racecar') "
   ]
  },
  {
   "cell_type": "code",
   "execution_count": 97,
   "id": "cf572100-995e-4448-8a9c-78fba5fd0d75",
   "metadata": {},
   "outputs": [],
   "source": [
    "\n",
    "def is_pallindrome(lop):\n",
    "    \n",
    "    l = 0\n",
    "    r = len(lop) - 1\n",
    "    while(l<=r):\n",
    "        if lop[l] != lop[r]:\n",
    "            return False\n",
    "        l += 1\n",
    "        r -= 1\n",
    "    return True \n",
    "\n"
   ]
  },
  {
   "cell_type": "code",
   "execution_count": 98,
   "id": "6040a370-ceda-4cba-9219-631bb76ddb00",
   "metadata": {},
   "outputs": [],
   "source": [
    "# n"
   ]
  },
  {
   "cell_type": "markdown",
   "id": "4a4ae102-af42-452a-95f0-9830202b9579",
   "metadata": {},
   "source": [
    "#### n = list(map(int,input(\"Enter the number of Digits :\").split()))\n",
    "\n",
    "n_ = input(\"Enter : \").split()\n",
    "\n",
    "n_ = [int(i) for i in n_]\n",
    "\n",
    "print(n_)"
   ]
  },
  {
   "cell_type": "code",
   "execution_count": 99,
   "id": "e58f4fc8-f73e-418b-bf5e-83b01cdee2b2",
   "metadata": {},
   "outputs": [
    {
     "data": {
      "text/plain": [
       "-2"
      ]
     },
     "execution_count": 99,
     "metadata": {},
     "output_type": "execute_result"
    }
   ],
   "source": [
    "n"
   ]
  },
  {
   "cell_type": "markdown",
   "id": "d7013ff0-b2e9-4be5-9318-86a380e6743e",
   "metadata": {},
   "source": [
    "## def is_pallindrome(lop):\n",
    "    \n",
    "    l = 0\n",
    "    r = len(lop) - 1\n",
    "    while(l<=r):\n",
    "        if lop[l] != lop[r]:\n",
    "            return False\n",
    "        l += 1\n",
    "        r -= 1\n",
    "    return True \n",
    "\n",
    "#  you must give input with space \n",
    "n = list(map(int,input(\"Enter the number of Digits :\").split()))\n",
    "print(n)"
   ]
  },
  {
   "cell_type": "code",
   "execution_count": 100,
   "id": "c022a85c-517c-4436-b263-f5e715448ad1",
   "metadata": {},
   "outputs": [
    {
     "ename": "TypeError",
     "evalue": "object of type 'int' has no len()",
     "output_type": "error",
     "traceback": [
      "\u001b[0;31m---------------------------------------------------------------------------\u001b[0m",
      "\u001b[0;31mTypeError\u001b[0m                                 Traceback (most recent call last)",
      "Cell \u001b[0;32mIn[100], line 1\u001b[0m\n\u001b[0;32m----> 1\u001b[0m \u001b[43mis_pallindrome\u001b[49m\u001b[43m(\u001b[49m\u001b[43mn\u001b[49m\u001b[43m)\u001b[49m\n",
      "Cell \u001b[0;32mIn[97], line 4\u001b[0m, in \u001b[0;36mis_pallindrome\u001b[0;34m(lop)\u001b[0m\n\u001b[1;32m      1\u001b[0m \u001b[38;5;28;01mdef\u001b[39;00m \u001b[38;5;21mis_pallindrome\u001b[39m(lop):\n\u001b[1;32m      3\u001b[0m     l \u001b[38;5;241m=\u001b[39m \u001b[38;5;241m0\u001b[39m\n\u001b[0;32m----> 4\u001b[0m     r \u001b[38;5;241m=\u001b[39m \u001b[38;5;28;43mlen\u001b[39;49m\u001b[43m(\u001b[49m\u001b[43mlop\u001b[49m\u001b[43m)\u001b[49m \u001b[38;5;241m-\u001b[39m \u001b[38;5;241m1\u001b[39m\n\u001b[1;32m      5\u001b[0m     \u001b[38;5;28;01mwhile\u001b[39;00m(l\u001b[38;5;241m<\u001b[39m\u001b[38;5;241m=\u001b[39mr):\n\u001b[1;32m      6\u001b[0m         \u001b[38;5;28;01mif\u001b[39;00m lop[l] \u001b[38;5;241m!=\u001b[39m lop[r]:\n",
      "\u001b[0;31mTypeError\u001b[0m: object of type 'int' has no len()"
     ]
    }
   ],
   "source": [
    "is_pallindrome(n)"
   ]
  },
  {
   "cell_type": "code",
   "execution_count": null,
   "id": "185464b8-56fd-4bb8-8dc3-5d3353955f49",
   "metadata": {},
   "outputs": [],
   "source": []
  },
  {
   "cell_type": "code",
   "execution_count": null,
   "id": "f7189b7d-6e95-418f-8e5d-e25836794e8d",
   "metadata": {},
   "outputs": [],
   "source": [
    "# Example 2: Given a sorted array of unique integers and a target integer, return true if there exists a pair of numbers that sum to target, false otherwise. This problem is similar to Two Sum. (In Two Sum, the input is not sorted).\n",
    "# For example, given nums = [1, 2, 4, 6, 8, 9, 14, 15] and target = 13, return true because 4 + 9 = 13.\n",
    "\n",
    "# Brute force  is the thing like  going   linearly  ghoing  from "
   ]
  },
  {
   "cell_type": "code",
   "execution_count": null,
   "id": "ec2be52c-95fd-4df7-a2d0-54a899c2713c",
   "metadata": {},
   "outputs": [],
   "source": [
    "def twoSum(nums, target):\n",
    "    for i in range(len(nums)):\n",
    "      for j in range(len(nums)):\n",
    "          if (nums[i]+nums[j] == target):\n",
    "              return [i,j]  # or [nums[i],nums[j]]\n",
    "\n",
    "#  BRute Force "
   ]
  },
  {
   "cell_type": "code",
   "execution_count": null,
   "id": "18a7fa4e-a948-45fe-b9ae-d88ae3974e71",
   "metadata": {},
   "outputs": [],
   "source": [
    "twoSum([1, 2, 4, 6, 8, 9, 14, 15],13)"
   ]
  },
  {
   "cell_type": "code",
   "execution_count": null,
   "id": "95ff2034-af73-4051-943f-fd9e980e24e1",
   "metadata": {},
   "outputs": [],
   "source": [
    "#   we  got the  time complexity  one of  the worst"
   ]
  },
  {
   "cell_type": "code",
   "execution_count": null,
   "id": "0ee66c5e-d88f-453e-ae70-d12d2d61cd14",
   "metadata": {},
   "outputs": [],
   "source": [
    "def twoSums(nums, target):\n",
    "\n",
    "    for i in range(len(nums)):\n",
    "        complement  = target - nums[i]\n",
    "        if  complement in nums:\n",
    "            return [i , nums.index(complement)]\n",
    "\n",
    "#  Optimal  how  here we are going with the o(n)  complement  is the  see we wan two number,  a pair whose sum  is  equal to the target \n",
    "# (arbitrary) any   so  let's   take a number from a list  and complement of it  which is target - nums[i]  if it  is  avaible in the nums\n",
    "# which means there is  a pair  or  number whose sum is  equal  to the  target "
   ]
  },
  {
   "cell_type": "code",
   "execution_count": null,
   "id": "87e6e7bb-409c-4b04-a9cd-dafc5951fbaa",
   "metadata": {},
   "outputs": [],
   "source": [
    "twoSums([1, 2, 4, 6, 8, 9, 14, 15],13)"
   ]
  },
  {
   "cell_type": "code",
   "execution_count": null,
   "id": "a11081a1-a65e-4cd6-b1d3-9c7996985845",
   "metadata": {},
   "outputs": [],
   "source": [
    " i = [1, 2, 4, 6, 8, 9, 14, 15]"
   ]
  },
  {
   "cell_type": "code",
   "execution_count": null,
   "id": "d0682e64-ee72-4ff9-a4a4-585b1f1191ae",
   "metadata": {},
   "outputs": [],
   "source": [
    "#  WE  catch  one problem in above  code i.e  it  will give problem twoSums([4, 4, 4, 6, 8, 9, 14, 15],8)"
   ]
  },
  {
   "cell_type": "code",
   "execution_count": null,
   "id": "e6ac75f5-2e37-4404-9be4-cbc65c448d2d",
   "metadata": {},
   "outputs": [],
   "source": [
    "def twoSums(nums, target):\n",
    "    seen = {}\n",
    "    for i,v in enumerate(nums):\n",
    "        complement  = target - v\n",
    "        if  complement in seen:\n",
    "            return [seen[complement], i ]\n",
    "        seen[v] = i\n",
    "    return []"
   ]
  },
  {
   "cell_type": "code",
   "execution_count": null,
   "id": "c36ade7b-181c-4e99-a22d-1a5a63afd926",
   "metadata": {},
   "outputs": [],
   "source": [
    "twoSums([4, 4, 4, 6, 8, 9, 14, 15],8)"
   ]
  },
  {
   "cell_type": "code",
   "execution_count": null,
   "id": "5af9f12f-5349-49f3-a6de-367e2abf65bd",
   "metadata": {},
   "outputs": [],
   "source": [
    "# I can  become  good  ,  i know  losing is just temperary .\n",
    "# no ai ,  if you know  that set is immutable, means  it is not  subscriptable  or  changeable   so   you dont try it  \n",
    "\n",
    "# gemini  give  you wrong in context of c++ (unordered_set) \n",
    "# one  thing  to remember that just improve the basic  knowledge  again and again . No one is good  you have  to become \n",
    "# thought  were  rught  buttttttt if you knw that thing you can't  waste and can go with directory"
   ]
  },
  {
   "cell_type": "code",
   "execution_count": null,
   "id": "d6e8ab0e-694d-49a4-a504-e90578e42b9a",
   "metadata": {},
   "outputs": [],
   "source": []
  },
  {
   "cell_type": "code",
   "execution_count": null,
   "id": "fc7e8fc8-2edd-4953-8b80-43f80888499c",
   "metadata": {},
   "outputs": [],
   "source": [
    "# See we have  given the  problem  \n",
    "# where  we  have  to  print  the number of the empty  boxes\n",
    "\n",
    "#  let's  see what is happening here  there is  a  Takashi   boy \n",
    "# hey used  to  eat  a  cookie   per  day \n",
    "# S --> is the  string , N-->  is the  length of the string \n",
    "# we have  input the   N D  ,  where  N -->  is the length of the  string   , And  D--> is the number of  days \n",
    "\n",
    "\n",
    "\n",
    "# The state of these boxes is represented by a string S of length N. Specifically, the i-th box (1≤i≤N) from the left contains one cookie if the i-th character of\n",
    "\n",
    "# S is @, and is empty if it is ..\n",
    "\n",
    "# Over the next\n",
    "\n",
    "# D days, Takahashi will choose and eat one cookie per day from among the cookies in these boxes.\n",
    "\n",
    "# Determine how many of the\n",
    "# N boxes will be empty after\n",
    "\n",
    "# D days have passed. (It can be proved that this value does not depend on which cookies Takahashi chooses each day.)\n",
    "\n",
    "# It is guaranteed that\n",
    "# S contains at least\n",
    "\n",
    "# D occurrences of @.\n",
    "\n",
    "\n",
    "\n",
    "\n",
    "# Constraints\n",
    "\n",
    "# 1≤D≤N≤100\n",
    "# N and\n",
    "# D are integers.\n",
    "# S is a string of length\n",
    "# N consisting of @ and ..\n",
    "# S contains at least\n",
    "\n",
    "#     D occurrences of @.\n",
    "\n",
    "\n",
    "# Input\n",
    "\n",
    "# The input is given from Standard Input in the following format:\n",
    "\n",
    "# N D\n",
    "# S\n",
    "\n",
    "# Output\n",
    "\n",
    "# Print the number of boxes that will be empty after\n",
    "# D days have passed among the\n",
    "\n",
    "# N boxes.\n",
    "\n"
   ]
  },
  {
   "cell_type": "code",
   "execution_count": null,
   "id": "4340969d-8842-40db-b72d-95781b505bb4",
   "metadata": {},
   "outputs": [],
   "source": [
    "N, D = list(map(int,input().split()))\n",
    "S = input()"
   ]
  },
  {
   "cell_type": "code",
   "execution_count": null,
   "id": "31cc0e51-a03f-4559-a8d9-44debec3e530",
   "metadata": {},
   "outputs": [],
   "source": [
    "em = 0\n",
    "cok = 0\n",
    "for i in S:\n",
    "    if i == '.':\n",
    "        em+=1\n",
    "    else:\n",
    "        cok+=1\n",
    "print(em + D)"
   ]
  },
  {
   "cell_type": "code",
   "execution_count": null,
   "id": "1e349667-af37-40b5-a436-612ff1cf87d7",
   "metadata": {},
   "outputs": [],
   "source": []
  },
  {
   "cell_type": "code",
   "execution_count": null,
   "id": "2c6e8d84-a078-4581-8b68-e92a743e31d8",
   "metadata": {},
   "outputs": [],
   "source": []
  },
  {
   "cell_type": "code",
   "execution_count": null,
   "id": "c5dc9846-0d22-4cd3-84d6-74321570259c",
   "metadata": {},
   "outputs": [],
   "source": []
  },
  {
   "cell_type": "code",
   "execution_count": null,
   "id": "ed76a768-08d8-44fc-adeb-191ac418b74b",
   "metadata": {},
   "outputs": [],
   "source": []
  },
  {
   "cell_type": "code",
   "execution_count": null,
   "id": "adf6505b-9770-4105-b2e1-90143adb680f",
   "metadata": {},
   "outputs": [],
   "source": [
    "# There are\n",
    "\n",
    "# N boxes arranged in a row, and some of these boxes contain cookies.\n",
    "\n",
    "# The state of these boxes is represented by a string\n",
    "# S of length N. Specifically, the i-th box (1≤i≤N) from the left contains one cookie if the i-th character of\n",
    "\n",
    "# S is @, and is empty if it is ..\n",
    "\n",
    "# Over the next\n",
    "\n",
    "# D days, Takahashi will choose and eat one cookie per day from among the cookies in these boxes. On each day, he chooses the cookie in the rightmost box that contains a cookie at that point.\n",
    "\n",
    "# Determine, for each of the\n",
    "# N boxes, whether it will contain a cookie after\n",
    "\n",
    "# D days have passed.\n",
    "\n",
    "# It is guaranteed that\n",
    "# S contains at least\n",
    "\n",
    "# D occurrences of @.\n",
    "# Constraints\n",
    "\n",
    "# 1≤D≤N≤100\n",
    "# N and\n",
    "# D are integers.\n",
    "# S is a string of length\n",
    "# N consisting of @ and ..\n",
    "# S contains at least\n",
    "\n",
    "#     D occurrences of @.\n",
    "\n",
    "# 5 2\n",
    "# .@@.@\n",
    "\n",
    "\n",
    "# o/p\n",
    "# .@...\n",
    "\n"
   ]
  },
  {
   "cell_type": "code",
   "execution_count": null,
   "id": "b42fedae-363c-499d-a4cb-ee87ba1d331b",
   "metadata": {},
   "outputs": [],
   "source": [
    "# now   we have  to   return the  string  okay "
   ]
  },
  {
   "cell_type": "code",
   "execution_count": null,
   "id": "069a7c6f-c955-405b-a2e9-efe7baa38584",
   "metadata": {},
   "outputs": [],
   "source": [
    "N, D = list(map(int,input().split()))\n",
    "S = input()\n",
    "S = S[::-1]\n",
    "S = S.replace('@','.',D)\n",
    "print(S[::-1])"
   ]
  },
  {
   "cell_type": "code",
   "execution_count": null,
   "id": "680099eb-c23d-4edd-87a7-63e0296a2fbc",
   "metadata": {},
   "outputs": [],
   "source": [
    "#  See   here one thing we  have here is to  start from right  and  according to the  value of D  remove number of @ with .\n",
    "S"
   ]
  },
  {
   "cell_type": "code",
   "execution_count": null,
   "id": "1b974411-c3fe-4fde-b660-d3f27e87fecc",
   "metadata": {},
   "outputs": [],
   "source": [
    "S = '.@@.@'\n",
    "len(S)"
   ]
  },
  {
   "cell_type": "code",
   "execution_count": null,
   "id": "036b9a89-e333-4994-bb9e-e5dc3532da6a",
   "metadata": {},
   "outputs": [],
   "source": [
    "S.replace('@','.')\n"
   ]
  },
  {
   "cell_type": "code",
   "execution_count": null,
   "id": "45e1047e-6777-475e-b24a-2641f8295cb4",
   "metadata": {},
   "outputs": [],
   "source": [
    "for i in range(N,-1,-1):\n",
    "    print(i)"
   ]
  },
  {
   "cell_type": "code",
   "execution_count": null,
   "id": "66924d9b-63f8-4168-a489-7b51de3c87b9",
   "metadata": {},
   "outputs": [],
   "source": [
    "# s.replace  is the thing which  do  all task  in one  go ,  it is  a  separate stack call where first  replace   operation will complete then  other oper\n",
    "# ation will work "
   ]
  },
  {
   "cell_type": "code",
   "execution_count": null,
   "id": "e1b1ed52-48e8-4f03-b7e1-85ffe5cbfaac",
   "metadata": {},
   "outputs": [],
   "source": []
  },
  {
   "cell_type": "code",
   "execution_count": null,
   "id": "0168da35-19c1-440b-b749-15ed5a4eedae",
   "metadata": {},
   "outputs": [],
   "source": []
  },
  {
   "cell_type": "code",
   "execution_count": null,
   "id": "40c77a35-6d4a-40f4-8735-58515de6af04",
   "metadata": {},
   "outputs": [],
   "source": [
    "N, M = list(map(int,input().split()))\n",
    "A = list(map(int,input().split()))\n",
    "B = list(map(int,input().split()))\n",
    "\n",
    "\n",
    "# A -> gourmet  level\n",
    "# B -> delicous level\n",
    "for j in range(len(B)):\n",
    "    l = 0\n",
    "    for i in range(len(A)):\n",
    "        if  B[j] >= A[i]:\n",
    "            print(i+1)\n",
    "            l = 1\n",
    "            break     \n",
    "            \n",
    "    if l == 0:\n",
    "        print(-1)\n",
    "   \n",
    "            "
   ]
  },
  {
   "cell_type": "code",
   "execution_count": null,
   "id": "4e8f0b9a-a7a2-4084-9318-bf2107ad2446",
   "metadata": {},
   "outputs": [],
   "source": [
    "# #   problems :\n",
    "#     1---> one time eaten or  done then no  search for others\n",
    "#     2---> if  the  B nd  A are same  thing like -1 unable  to get "
   ]
  },
  {
   "cell_type": "code",
   "execution_count": null,
   "id": "5cd3bf41-3cc8-4ae2-b156-6bb86db5513e",
   "metadata": {},
   "outputs": [],
   "source": [
    "# basically here  we  are  using the  flag  where  at each  iteration of eating  like  l = 1  if  sushi  delicous >  gourmet level\n",
    "# and then  break  whihc  will not  allow  other  to do so.  after each inner loop where we check if l==0 or  not if  then print(-1) means no sushi eating"
   ]
  },
  {
   "cell_type": "code",
   "execution_count": null,
   "id": "ede3c601-c99f-4ba8-9b4c-2ea71970ef58",
   "metadata": {},
   "outputs": [],
   "source": []
  },
  {
   "cell_type": "code",
   "execution_count": null,
   "id": "21152456-6bfd-4465-b14e-a7bac5a82d6b",
   "metadata": {},
   "outputs": [],
   "source": [
    "# Optimizing the Approach\n",
    "\n",
    "# The optimal solution can be achieved by utilizing a sorted list A and then leveraging binary search to efficiently find the index where B[j] \n",
    "# can satisfy the condition B[j] >= A[i].\n",
    "# This reduces the time complexity to O(Nlog⁡N+Mlog⁡N)O(NlogN+MlogN), which is much faster.\n"
   ]
  },
  {
   "cell_type": "code",
   "execution_count": null,
   "id": "fa8257f2-4887-418e-b3fd-2ea2f2c8ef45",
   "metadata": {},
   "outputs": [],
   "source": [
    "# ohk   first  we  need to  optimize the  thing ohk "
   ]
  },
  {
   "cell_type": "code",
   "execution_count": null,
   "id": "82a62cd3-3e54-4492-ad25-ab50d20d75a6",
   "metadata": {},
   "outputs": [],
   "source": []
  },
  {
   "cell_type": "code",
   "execution_count": null,
   "id": "87fc4cb1-0a32-43d4-9ebe-336b11773502",
   "metadata": {},
   "outputs": [],
   "source": [
    "# so  here  we  get the  question  like    where  we  have to  tell that this  number can be divided into equally or not "
   ]
  },
  {
   "cell_type": "code",
   "execution_count": null,
   "id": "16d97ed8-3674-4ea2-93d4-475469cb5740",
   "metadata": {},
   "outputs": [],
   "source": [
    "# for  example   if  we have the 8  we can divide it into the  4 4 yes so we have to determine  it "
   ]
  },
  {
   "cell_type": "code",
   "execution_count": null,
   "id": "ed590811-c049-4ddc-8a0c-fe2c2b322dd7",
   "metadata": {},
   "outputs": [],
   "source": [
    "# we have  to print  yes  if the boys  can divide the watermelon in  even parts"
   ]
  },
  {
   "cell_type": "code",
   "execution_count": null,
   "id": "6787ed76-8c52-4799-88ca-ad438279b923",
   "metadata": {},
   "outputs": [],
   "source": [
    "for  example we can divide it in to  (8) --->  6 or 2 (4  or 4)"
   ]
  },
  {
   "cell_type": "code",
   "execution_count": null,
   "id": "0289f4c3-ac05-4e59-a9f2-f88514fe798e",
   "metadata": {},
   "outputs": [],
   "source": [
    "n = int(input())\n",
    "if  n!= 2 and n%2 == 0:\n",
    "    print(\"YES\")\n",
    "else:\n",
    "    print(\"NO\")"
   ]
  },
  {
   "cell_type": "code",
   "execution_count": null,
   "id": "6639a98c-cdbb-4dac-b5d3-ce17fb21f64a",
   "metadata": {},
   "outputs": [],
   "source": [
    "s = input()\n",
    "if len(s)>= 10:\n",
    "    print(f'{s[0]}{len(s) - 2}{s[-1]}')"
   ]
  },
  {
   "cell_type": "code",
   "execution_count": null,
   "id": "0f733697-1c3a-4ca0-ac2c-2ee45c7aba6f",
   "metadata": {},
   "outputs": [],
   "source": [
    "n = int(input())\n",
    "l = []\n",
    "for i in range(n):\n",
    "    n_1 = input()\n",
    "    l.append(n_1)"
   ]
  },
  {
   "cell_type": "code",
   "execution_count": null,
   "id": "e747d2b7-35b8-4ca3-acb8-1aa515ba9f6a",
   "metadata": {},
   "outputs": [],
   "source": [
    "l"
   ]
  },
  {
   "cell_type": "code",
   "execution_count": null,
   "id": "1afdfee1-6d81-4bae-8f60-bb8a60c9085b",
   "metadata": {},
   "outputs": [],
   "source": [
    "for i in l:\n",
    "    if len(i)>= 10:\n",
    "        print(f'{i[0]}{len(i) - 2}{i[-1]}')\n",
    "    else:\n",
    "        print(i)"
   ]
  },
  {
   "cell_type": "code",
   "execution_count": null,
   "id": "ce951c88-ebfc-47a8-b5ef-7f21c6cfedb7",
   "metadata": {},
   "outputs": [],
   "source": [
    "\n",
    "# print(pow(x, n))\n",
    "\n",
    "# we are gonna  see different appraoch\n",
    "\n",
    "\n",
    "def pow(x, n):\n",
    "    if n > 0:\n",
    "        for _ in range(n):\n",
    "            x *= x\n",
    "        return x\n",
    "\n",
    "\n",
    "print(pow())"
   ]
  },
  {
   "cell_type": "code",
   "execution_count": null,
   "id": "81c703a2-e5c6-4ed3-8444-e8df5f006920",
   "metadata": {},
   "outputs": [],
   "source": [
    "x = float(input(\"Enter the number : \"))\n",
    "n = int(input(\"Enter the power : \"))\n",
    "# print(pow(x, n))\n",
    "\n",
    "# we are gonna  see different appraoch\n",
    "\n",
    "\n",
    "def pow(x, n):\n",
    "    x_ = 1\n",
    "    if  n == 0:\n",
    "        return 1\n",
    "    if n > 0:\n",
    "        for _ in range(n):\n",
    "            x_ *= x\n",
    "        return x_\n",
    "    if n< 0:\n",
    "        for _ in range(abs(n)):\n",
    "            x_ *= x\n",
    "        return (1/x_)\n",
    "\n",
    "\n",
    "print(pow(x, n))"
   ]
  },
  {
   "cell_type": "code",
   "execution_count": null,
   "id": "26ef7aae-b693-4a9e-ac0a-57366c3223f1",
   "metadata": {},
   "outputs": [],
   "source": [
    "x"
   ]
  },
  {
   "cell_type": "code",
   "execution_count": null,
   "id": "74048e69-6811-418e-8413-d1e7a955da97",
   "metadata": {},
   "outputs": [],
   "source": [
    "# #  so we have  to return the  model  of the  phone \n",
    "# where we have given the  phone year launched :\n",
    "# if 2000  then k00"
   ]
  },
  {
   "cell_type": "code",
   "execution_count": 107,
   "id": "5ef21c21-1069-4cb8-be5d-cfd37d772458",
   "metadata": {},
   "outputs": [
    {
     "name": "stdin",
     "output_type": "stream",
     "text": [
      " 1973\n"
     ]
    },
    {
     "name": "stdout",
     "output_type": "stream",
     "text": [
      "K73\n"
     ]
    }
   ],
   "source": [
    "n = int(input())\n",
    "n_ = str(n)[-2:]\n",
    "print(f\"K{n_}\")"
   ]
  },
  {
   "cell_type": "code",
   "execution_count": 103,
   "id": "f5b9ff5f-393b-4a10-8390-c4963356f003",
   "metadata": {},
   "outputs": [
    {
     "data": {
      "text/plain": [
       "'00'"
      ]
     },
     "execution_count": 103,
     "metadata": {},
     "output_type": "execute_result"
    }
   ],
   "source": [
    "str(n)[-2:]"
   ]
  },
  {
   "cell_type": "code",
   "execution_count": 110,
   "id": "ec3e5dd5-fcf4-42b7-b40c-65af3c01b7fd",
   "metadata": {},
   "outputs": [
    {
     "name": "stdin",
     "output_type": "stream",
     "text": [
      " 2\n",
      " 1\n",
      " 3\n"
     ]
    },
    {
     "name": "stdout",
     "output_type": "stream",
     "text": [
      "24000\n",
      "72000\n"
     ]
    }
   ],
   "source": [
    "n = int(input())\n",
    "s = []\n",
    "for i in range(n):\n",
    "    el = int(input())\n",
    "    s.append(el)\n",
    "\n",
    "#  there is video 24 frame per second ,  has duration of Sseconds\n",
    "\n",
    "for i in s:\n",
    "    print(i * 24 * 1000)\n"
   ]
  },
  {
   "cell_type": "code",
   "execution_count": 124,
   "id": "6eca71db-48a0-4012-a911-eb6f04c453ed",
   "metadata": {},
   "outputs": [
    {
     "name": "stdin",
     "output_type": "stream",
     "text": [
      " 1\n",
      " 2 3\n",
      " 4 5\n"
     ]
    }
   ],
   "source": [
    "n = int(input())\n",
    "\n",
    "# so it is  easy one  okay  let's  see  her \n",
    "\n",
    "a = []\n",
    "\n",
    "d = list(map(int,input().split()))\n",
    "a.append(d)\n",
    "d = list(map(int,input().split()))\n",
    "a.append(d)"
   ]
  },
  {
   "cell_type": "code",
   "execution_count": 125,
   "id": "c7eed453-5c87-4610-b603-f1120a3d2fd6",
   "metadata": {},
   "outputs": [
    {
     "data": {
      "text/plain": [
       "[[2, 3], [4, 5]]"
      ]
     },
     "execution_count": 125,
     "metadata": {},
     "output_type": "execute_result"
    }
   ],
   "source": [
    "a"
   ]
  },
  {
   "cell_type": "code",
   "execution_count": 129,
   "id": "a822e1ba-0eb9-4666-a8ed-d9f0e92f1b4a",
   "metadata": {},
   "outputs": [
    {
     "name": "stdin",
     "output_type": "stream",
     "text": [
      " 3\n",
      " 1 2\n",
      " 3 10\n",
      " 5 5\n"
     ]
    }
   ],
   "source": [
    "import random \n",
    "n = int(input())\n",
    "\n",
    "a = []\n",
    "\n",
    "for i in range(n):\n",
    "    d = list(map(int,input().split()))\n",
    "    a.append(d)\n",
    "        "
   ]
  },
  {
   "cell_type": "code",
   "execution_count": 130,
   "id": "b99818af-4f19-46b2-8eff-74a39274d853",
   "metadata": {},
   "outputs": [
    {
     "data": {
      "text/plain": [
       "[[1, 2], [3, 10], [5, 5]]"
      ]
     },
     "execution_count": 130,
     "metadata": {},
     "output_type": "execute_result"
    }
   ],
   "source": [
    "a"
   ]
  },
  {
   "cell_type": "code",
   "execution_count": 133,
   "id": "3d5a4cc9-382d-4807-9f04-f0afe16adc15",
   "metadata": {},
   "outputs": [
    {
     "name": "stdout",
     "output_type": "stream",
     "text": [
      "1\n",
      "7\n",
      "0\n"
     ]
    }
   ],
   "source": [
    "for i in a:\n",
    "    c = random.randint(i[0],i[1])\n",
    "    print((c-i[0]) + (i[1]-c))"
   ]
  },
  {
   "cell_type": "code",
   "execution_count": 134,
   "id": "37dc4c42-b12a-4175-be15-51269297fec5",
   "metadata": {},
   "outputs": [],
   "source": [
    "# We  got  one  of the  another  easiest  question like\n",
    "# here we have the   number  convert it into  the binary and  find the consecutive 0s from the end\n"
   ]
  },
  {
   "cell_type": "code",
   "execution_count": 172,
   "id": "f50d2d4e-978c-4da3-969b-c00fcd92ba7f",
   "metadata": {},
   "outputs": [
    {
     "name": "stdin",
     "output_type": "stream",
     "text": [
      " 5\n"
     ]
    },
    {
     "data": {
      "text/plain": [
       "[1, 0, 1]"
      ]
     },
     "execution_count": 172,
     "metadata": {},
     "output_type": "execute_result"
    }
   ],
   "source": [
    "n = int(input())\n",
    "#  take the number\n",
    "\n",
    "l = [] \n",
    "q = n\n",
    "while  q!=1:\n",
    "    r = q%2\n",
    "    l.append(r)\n",
    "    q = (q - r)//2 \n",
    "    if q == 1:\n",
    "        l.append(1)\n",
    "\n",
    "l "
   ]
  },
  {
   "cell_type": "code",
   "execution_count": null,
   "id": "0bc55f99-5f46-431a-b9d9-ba241f7d6a30",
   "metadata": {},
   "outputs": [],
   "source": []
  },
  {
   "cell_type": "code",
   "execution_count": 137,
   "id": "822cba0a-9f0d-4590-8e83-45c814f013cb",
   "metadata": {},
   "outputs": [
    {
     "data": {
      "text/plain": [
       "2"
      ]
     },
     "execution_count": 137,
     "metadata": {},
     "output_type": "execute_result"
    }
   ],
   "source": [
    "# (divdent -remainder) / divisor  11111101000 "
   ]
  },
  {
   "cell_type": "code",
   "execution_count": 173,
   "id": "343666ca-50fe-49c2-8483-45ec342e34a1",
   "metadata": {},
   "outputs": [],
   "source": [
    "d = 0\n",
    "for i in range(len(l)):\n",
    "    if l[i] == 0:\n",
    "        d+=1\n",
    "    else:\n",
    "        break"
   ]
  },
  {
   "cell_type": "code",
   "execution_count": 174,
   "id": "04061c92-e427-4bb7-88e6-38eb1e26b6e1",
   "metadata": {},
   "outputs": [
    {
     "data": {
      "text/plain": [
       "0"
      ]
     },
     "execution_count": 174,
     "metadata": {},
     "output_type": "execute_result"
    }
   ],
   "source": [
    "d"
   ]
  },
  {
   "cell_type": "code",
   "execution_count": 175,
   "id": "89aa2cfb-6caa-446e-ae66-5ff112ba5b96",
   "metadata": {},
   "outputs": [
    {
     "name": "stdin",
     "output_type": "stream",
     "text": [
      " 5\n"
     ]
    },
    {
     "name": "stdout",
     "output_type": "stream",
     "text": [
      "0\n"
     ]
    }
   ],
   "source": [
    "n = int(input())\n",
    "#  take the number\n",
    "\n",
    "l = [] \n",
    "q = n\n",
    "while  q!=1:\n",
    "    r = q%2\n",
    "    l.append(r)\n",
    "    q = (q - r)//2 \n",
    "    if q == 1:\n",
    "        l.append(1)\n",
    "\n",
    "d = 0\n",
    "for i in range(len(l)):\n",
    "    if l[i] == 0:\n",
    "        d+=1\n",
    "    else:\n",
    "        break\n",
    "\n",
    "print(d)"
   ]
  },
  {
   "cell_type": "code",
   "execution_count": null,
   "id": "1f1cfab0-ea87-4ed7-9a17-67946e1b4f14",
   "metadata": {},
   "outputs": [],
   "source": [
    "7\n",
    "1\n",
    "1\n",
    "3\n",
    "2 2 2\n",
    "7\n",
    "2 2 3 3 4 2 2\n",
    "8\n",
    "1 4 3 4 3 2 4 1\n",
    "9\n",
    "1 1 1 2 2 2 3 3 3\n",
    "5\n",
    "1 5 2 4 3\n",
    "4\n",
    "4 4 4 4\n"
   ]
  },
  {
   "cell_type": "code",
   "execution_count": null,
   "id": "ba35cd7a-6e4f-4ef0-9fe8-aa2473c6bb73",
   "metadata": {},
   "outputs": [],
   "source": [
    "a = []\n",
    "\n",
    "for i in range(n):\n",
    "    d = list(map(int,input().split()))\n",
    "    a.append(d)"
   ]
  },
  {
   "cell_type": "code",
   "execution_count": 190,
   "id": "19afefa9-eb41-4f25-bd3f-8921872d102c",
   "metadata": {},
   "outputs": [
    {
     "name": "stdin",
     "output_type": "stream",
     "text": [
      " 7\n",
      " 1\n",
      " 1\n",
      " 3\n",
      " 2 2 2\n",
      " 7\n",
      " 2 2 3 3 4 2 2\n",
      " 8\n",
      " 1 4 3 4 3 2 4 1\n",
      " 9\n",
      " 1 1 1 2 2 2 3 3 3\n",
      " 5\n",
      " 1 5 2 4 3\n",
      " 4\n",
      " 4 4 4 4\n"
     ]
    }
   ],
   "source": [
    "n = int(input())\n",
    "\n",
    "a = []\n",
    "n_1 = []\n",
    "for i in range(n):\n",
    "    d = int(input())\n",
    "    n_1.append(d)\n",
    "    d_1 = list(map(int,input().split()))\n",
    "    a.append(d_1)\n",
    "\n"
   ]
  },
  {
   "cell_type": "code",
   "execution_count": 206,
   "id": "6d9653df-301e-4974-bd78-ea75bffe85da",
   "metadata": {},
   "outputs": [
    {
     "data": {
      "text/plain": [
       "[[1],\n",
       " [2, 2, 2],\n",
       " [2, 2, 3, 3, 4, 2, 2],\n",
       " [1, 4, 3, 4, 3, 2, 4, 1],\n",
       " [1, 1, 1, 2, 2, 2, 3, 3, 3],\n",
       " [1, 5, 2, 4, 3],\n",
       " [4, 4, 4, 4]]"
      ]
     },
     "execution_count": 206,
     "metadata": {},
     "output_type": "execute_result"
    }
   ],
   "source": [
    "a"
   ]
  },
  {
   "cell_type": "code",
   "execution_count": 207,
   "id": "38a645b6-991a-4b6e-9abe-2a995f5d536a",
   "metadata": {},
   "outputs": [
    {
     "data": {
      "text/plain": [
       "[1, 3, 7, 8, 9, 5, 4]"
      ]
     },
     "execution_count": 207,
     "metadata": {},
     "output_type": "execute_result"
    }
   ],
   "source": [
    "n_1"
   ]
  },
  {
   "cell_type": "code",
   "execution_count": 219,
   "id": "8ccad72a-1f3d-495a-a959-2fc3082a7c69",
   "metadata": {},
   "outputs": [
    {
     "name": "stdout",
     "output_type": "stream",
     "text": [
      "0\n",
      "0\n",
      "2\n",
      "2\n",
      "3\n",
      "1\n",
      "0\n"
     ]
    }
   ],
   "source": [
    "from collections import Counter\n",
    "#  we have  to  print the number who is occuring the 3 times\n",
    "for i in a:\n",
    "    cl = Counter(i)\n",
    "    print(cl[3])"
   ]
  },
  {
   "cell_type": "code",
   "execution_count": 197,
   "id": "fccdd63f-eb83-41a9-a550-e41877c12259",
   "metadata": {},
   "outputs": [
    {
     "data": {
      "text/plain": [
       "4"
      ]
     },
     "execution_count": 197,
     "metadata": {},
     "output_type": "execute_result"
    }
   ],
   "source": [
    "-1\n",
    "2\n",
    "2\n",
    "4\n",
    "3\n",
    "-1\n",
    "4\n"
   ]
  },
  {
   "cell_type": "code",
   "execution_count": 201,
   "id": "09c0409f-4caa-43ec-8943-7350dfa6546e",
   "metadata": {},
   "outputs": [],
   "source": [
    "from collections import Counter\n",
    "s = Counter([2, 2, 2])\n",
    "s1 = Counter( [1, 4, 3, 4, 3, 2, 4, 1])"
   ]
  },
  {
   "cell_type": "code",
   "execution_count": 202,
   "id": "e4a9fc04-bb91-49c2-8f13-64288309a372",
   "metadata": {},
   "outputs": [
    {
     "data": {
      "text/plain": [
       "Counter({2: 3})"
      ]
     },
     "execution_count": 202,
     "metadata": {},
     "output_type": "execute_result"
    }
   ],
   "source": [
    "s"
   ]
  },
  {
   "cell_type": "code",
   "execution_count": 210,
   "id": "24600c34-83b5-4583-9e69-3af78a1f2397",
   "metadata": {},
   "outputs": [
    {
     "data": {
      "text/plain": [
       "Counter({4: 3, 1: 2, 3: 2, 2: 1})"
      ]
     },
     "execution_count": 210,
     "metadata": {},
     "output_type": "execute_result"
    }
   ],
   "source": [
    "s1"
   ]
  },
  {
   "cell_type": "code",
   "execution_count": 204,
   "id": "689dd642-89a8-4188-823d-7ad063c25991",
   "metadata": {},
   "outputs": [
    {
     "name": "stdout",
     "output_type": "stream",
     "text": [
      "2\n"
     ]
    }
   ],
   "source": [
    "# if s1:\n",
    "#     print(s1.get(key)\n",
    "\n",
    "if s1[j] == "
   ]
  },
  {
   "cell_type": "code",
   "execution_count": 246,
   "id": "1108574a-faa7-49e2-8c88-8129f7a5a8d3",
   "metadata": {},
   "outputs": [
    {
     "name": "stdin",
     "output_type": "stream",
     "text": [
      " 6\n",
      " 1 2 3 4 6\n"
     ]
    },
    {
     "name": "stdout",
     "output_type": "stream",
     "text": [
      "5\n"
     ]
    }
   ],
   "source": [
    "n =  int(input())\n",
    "k = list(map(int, input().split()))\n",
    "l = list(range(1,n+1))\n",
    "print(sum(l) - sum(k))"
   ]
  },
  {
   "cell_type": "code",
   "execution_count": 242,
   "id": "82e8bae2-45bf-477f-b5a5-08d7c1d98f46",
   "metadata": {},
   "outputs": [
    {
     "data": {
      "text/plain": [
       "11"
      ]
     },
     "execution_count": 242,
     "metadata": {},
     "output_type": "execute_result"
    }
   ],
   "source": [
    "sum(k)"
   ]
  },
  {
   "cell_type": "code",
   "execution_count": 243,
   "id": "e0108c79-a984-4074-92f0-60b3aa006609",
   "metadata": {},
   "outputs": [
    {
     "data": {
      "text/plain": [
       "4"
      ]
     },
     "execution_count": 243,
     "metadata": {},
     "output_type": "execute_result"
    }
   ],
   "source": [
    "sum(l) - sum(k)"
   ]
  },
  {
   "cell_type": "code",
   "execution_count": 234,
   "id": "6e9188b6-7a3c-4321-bbcf-533a19a4aa5e",
   "metadata": {},
   "outputs": [
    {
     "data": {
      "text/plain": [
       "11"
      ]
     },
     "execution_count": 234,
     "metadata": {},
     "output_type": "execute_result"
    }
   ],
   "source": [
    "# we have  to print the number  which is not in the  \n",
    "\n",
    "1+2+3+5\n"
   ]
  },
  {
   "cell_type": "code",
   "execution_count": 259,
   "id": "f8a54b07-e445-4e74-98ba-f4ec7a11b22c",
   "metadata": {},
   "outputs": [
    {
     "data": {
      "text/plain": [
       "15"
      ]
     },
     "execution_count": 259,
     "metadata": {},
     "output_type": "execute_result"
    }
   ],
   "source": [
    "1+2+3+5+4"
   ]
  },
  {
   "cell_type": "code",
   "execution_count": 260,
   "id": "052a3293-a24d-4eb1-b673-8a7b26e9fb90",
   "metadata": {},
   "outputs": [],
   "source": []
  },
  {
   "cell_type": "code",
   "execution_count": 261,
   "id": "8ffce95b-221d-493e-9fb9-a87aed4c5856",
   "metadata": {},
   "outputs": [
    {
     "data": {
      "text/plain": [
       "38"
      ]
     },
     "execution_count": 261,
     "metadata": {},
     "output_type": "execute_result"
    }
   ],
   "source": [
    "d"
   ]
  },
  {
   "cell_type": "code",
   "execution_count": null,
   "id": "17f6d4ec-ebf1-44e7-8c9e-1b44326143eb",
   "metadata": {},
   "outputs": [],
   "source": []
  },
  {
   "cell_type": "code",
   "execution_count": 262,
   "id": "3afe6729-7998-410b-b87a-2d947b125a33",
   "metadata": {},
   "outputs": [],
   "source": []
  },
  {
   "cell_type": "code",
   "execution_count": 263,
   "id": "b96c90ed-cb79-4462-801f-2f303b18571f",
   "metadata": {},
   "outputs": [
    {
     "data": {
      "text/plain": [
       "38"
      ]
     },
     "execution_count": 263,
     "metadata": {},
     "output_type": "execute_result"
    }
   ],
   "source": [
    "d"
   ]
  },
  {
   "cell_type": "code",
   "execution_count": null,
   "id": "29f928e4-5433-4fca-8219-e2fe22199a5d",
   "metadata": {},
   "outputs": [],
   "source": []
  }
 ],
 "metadata": {
  "kernelspec": {
   "display_name": "Python 3 (ipykernel)",
   "language": "python",
   "name": "python3"
  },
  "language_info": {
   "codemirror_mode": {
    "name": "ipython",
    "version": 3
   },
   "file_extension": ".py",
   "mimetype": "text/x-python",
   "name": "python",
   "nbconvert_exporter": "python",
   "pygments_lexer": "ipython3",
   "version": "3.12.7"
  }
 },
 "nbformat": 4,
 "nbformat_minor": 5
}
