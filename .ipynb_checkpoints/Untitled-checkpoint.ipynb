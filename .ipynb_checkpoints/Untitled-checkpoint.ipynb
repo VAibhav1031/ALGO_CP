{
 "cells": [
  {
   "cell_type": "code",
   "execution_count": 181,
   "id": "b8230055-6b60-4f20-8b86-d95abc502940",
   "metadata": {},
   "outputs": [],
   "source": [
    "lo = [1, 2, 3, 4]\n"
   ]
  },
  {
   "cell_type": "code",
   "execution_count": 182,
   "id": "6c949789-1d25-4c15-afb3-36bb0ca44b3a",
   "metadata": {},
   "outputs": [],
   "source": [
    "def hasduplicate(lis):\n",
    "    se = set()\n",
    "    for nums in se:\n",
    "        if nums in se:\n",
    "            return True\n",
    "        se.add(nums)\n",
    "    return False\n",
    "            \n",
    "\n",
    "\n",
    "\n",
    "# Unecessary usage of the  two list   why we making thing  more  complex  we have  built  in  data type  named  called  sets  which  doesnt  contains\n",
    "# any  duplicate  which  we  can  us e"
   ]
  },
  {
   "cell_type": "code",
   "execution_count": 183,
   "id": "df657e9c-8e2c-4d2b-bbbb-d4b304662273",
   "metadata": {},
   "outputs": [
    {
     "data": {
      "text/plain": [
       "False"
      ]
     },
     "execution_count": 183,
     "metadata": {},
     "output_type": "execute_result"
    }
   ],
   "source": [
    "hasduplicate(lo)"
   ]
  },
  {
   "cell_type": "code",
   "execution_count": 184,
   "id": "23b7244f-521c-4815-9108-3a37e8b819b7",
   "metadata": {},
   "outputs": [],
   "source": [
    "def hasduplicate(lis):\n",
    "    return len(lis) != len(set(lis))\n"
   ]
  },
  {
   "cell_type": "code",
   "execution_count": 185,
   "id": "3f9754d2-89b3-428c-8f40-e53810956275",
   "metadata": {},
   "outputs": [
    {
     "data": {
      "text/plain": [
       "False"
      ]
     },
     "execution_count": 185,
     "metadata": {},
     "output_type": "execute_result"
    }
   ],
   "source": [
    "hasduplicate(lo)"
   ]
  },
  {
   "cell_type": "code",
   "execution_count": 186,
   "id": "1c697f96-bb6b-47c7-ac77-beb66d75231f",
   "metadata": {},
   "outputs": [],
   "source": [
    "def isAnagram(str_1,str_2):\n",
    "    if sorted(list(str_1)) == sorted(list(str_2)):\n",
    "        return True\n",
    "    return False\n",
    "    "
   ]
  },
  {
   "cell_type": "code",
   "execution_count": 187,
   "id": "b5e78fbf-8aac-48d7-8693-1931e829556c",
   "metadata": {},
   "outputs": [
    {
     "data": {
      "text/plain": [
       "True"
      ]
     },
     "execution_count": 187,
     "metadata": {},
     "output_type": "execute_result"
    }
   ],
   "source": [
    "isAnagram(\"racecar\",  \"carrace\")"
   ]
  },
  {
   "cell_type": "code",
   "execution_count": 188,
   "id": "71ad1168-dbd7-4999-baa1-f946616321c2",
   "metadata": {},
   "outputs": [],
   "source": [
    "# see this is  more  pythonic way  of  doing the  thing  ,  because of using  the   sorted  thing here  we have  time complexity\n",
    "# changed to the O(nlogn)  beccause  sorted function use merge or  quick sort which have  time complexity  \n",
    "\n"
   ]
  },
  {
   "cell_type": "code",
   "execution_count": 189,
   "id": "01f7fae6-d91b-4085-8b22-bee7df33fe7b",
   "metadata": {},
   "outputs": [],
   "source": [
    "from collections import  Counter\n",
    "def isAnagram(str_1,str_2):\n",
    "    if Counter(str_1) == Counter(str_2):\n",
    "        return True\n",
    "    return False\n",
    "\n"
   ]
  },
  {
   "cell_type": "code",
   "execution_count": 190,
   "id": "45bf18ee-ac57-4164-ba18-9036ba5be2b2",
   "metadata": {},
   "outputs": [
    {
     "data": {
      "text/plain": [
       "True"
      ]
     },
     "execution_count": 190,
     "metadata": {},
     "output_type": "execute_result"
    }
   ],
   "source": [
    "isAnagram(\"racecar\",  \"carrace\")"
   ]
  },
  {
   "cell_type": "code",
   "execution_count": 191,
   "id": "5b68e711-684a-448f-b7cb-903477818a29",
   "metadata": {},
   "outputs": [],
   "source": [
    "a =Counter('racecar')"
   ]
  },
  {
   "cell_type": "code",
   "execution_count": 192,
   "id": "5511f393-0f4d-49d4-8be3-d3957d04a883",
   "metadata": {},
   "outputs": [],
   "source": [
    "b =Counter('carrace')"
   ]
  },
  {
   "cell_type": "code",
   "execution_count": 193,
   "id": "9f4bc3d2-3bf7-4c37-84ce-c272ed53c6b3",
   "metadata": {},
   "outputs": [
    {
     "data": {
      "text/plain": [
       "True"
      ]
     },
     "execution_count": 193,
     "metadata": {},
     "output_type": "execute_result"
    }
   ],
   "source": [
    "a==b"
   ]
  },
  {
   "cell_type": "code",
   "execution_count": null,
   "id": "3a590950-07f1-490b-9250-4ae607242cae",
   "metadata": {},
   "outputs": [],
   "source": []
  },
  {
   "cell_type": "code",
   "execution_count": 194,
   "id": "d81be276-c705-41ba-a1f2-ec9a331dadb0",
   "metadata": {},
   "outputs": [],
   "source": [
    "def  isAnagram(s, t):\n",
    "    if len(s) != len(t):\n",
    "        return False\n",
    "    s_ = {}\n",
    "    t_ = {}\n",
    "    for i in range(len(s)):\n",
    "        if s[i] not in s_:\n",
    "            s_[s[i]] = 1\n",
    "        else:\n",
    "            s_[s[i]] +=1\n",
    "\n",
    "        if  t[i] not in t_:\n",
    "            t_[t[i]] = 1\n",
    "        else:\n",
    "            t_[t[i]] +=1\n",
    "\n",
    "    return s_ == t_\n",
    "        "
   ]
  },
  {
   "cell_type": "code",
   "execution_count": 195,
   "id": "de2ade47-5b68-46a7-9f06-2141fe2ac23b",
   "metadata": {},
   "outputs": [
    {
     "data": {
      "text/plain": [
       "True"
      ]
     },
     "execution_count": 195,
     "metadata": {},
     "output_type": "execute_result"
    }
   ],
   "source": [
    "isAnagram(\"olleh\", \"hello\")"
   ]
  },
  {
   "cell_type": "code",
   "execution_count": 196,
   "id": "73c0208d-349d-48a9-bdd8-5cbd08adc2ea",
   "metadata": {},
   "outputs": [
    {
     "name": "stdout",
     "output_type": "stream",
     "text": [
      "True\n",
      "False\n",
      "False\n",
      "True\n",
      "False\n"
     ]
    }
   ],
   "source": [
    "# Test cases\n",
    "print(isAnagram(\"hello\", \"olleh\"))  # True\n",
    "print(isAnagram(\"hello\", \"world\"))  # False\n",
    "print(isAnagram(\"rat\", \"car\"))      # False\n",
    "print(isAnagram(\"\", \"\"))            # True\n",
    "print(isAnagram(\"ab\", \"a\"))         # False - your original code would fail here"
   ]
  },
  {
   "cell_type": "code",
   "execution_count": 197,
   "id": "126c49cd-9554-433f-b42b-c5fa057018c8",
   "metadata": {},
   "outputs": [],
   "source": [
    "def  isAnagram(s, t):\n",
    "    if len(s) != len(t):\n",
    "        return False\n",
    "\n",
    "    char_count={}\n",
    "    for chars in s:\n",
    "        char_count[chars] =  char_count.get(chars, 0) + 1\n",
    "\n",
    "    for char in t:\n",
    "        if  char not in char_count:\n",
    "            return  False\n",
    "        char_count[char]-=1\n",
    "        if char_count[char]==0:\n",
    "            del(char_count[char])\n",
    "\n",
    "    return len(char_count)==0\n"
   ]
  },
  {
   "cell_type": "code",
   "execution_count": 198,
   "id": "ae6cbf5c-7084-4cab-be22-193a4cee2080",
   "metadata": {},
   "outputs": [
    {
     "name": "stdout",
     "output_type": "stream",
     "text": [
      "True\n",
      "False\n",
      "False\n",
      "True\n",
      "False\n"
     ]
    }
   ],
   "source": [
    "# Test cases\n",
    "print(isAnagram(\"hello\", \"olleh\"))  # True\n",
    "print(isAnagram(\"hello\", \"world\"))  # False\n",
    "print(isAnagram(\"rat\", \"car\"))      # False\n",
    "print(isAnagram(\"\", \"\"))            # True\n",
    "print(isAnagram(\"ab\", \"a\"))         # False - your original code would fail here"
   ]
  },
  {
   "cell_type": "code",
   "execution_count": 199,
   "id": "5a15de03-e8ec-4fd8-a421-280aec7f7cf2",
   "metadata": {},
   "outputs": [],
   "source": [
    "# def twoSum(nums, target: int) :\n",
    "#         for l in nums:\n",
    "#             if (target-l) in nums:\n",
    "#                 if (target-l) == l:\n",
    "                   \n",
    "#                 else:\n",
    "#                     return [nums.index(l),nums.index(target-l)]\n",
    "                "
   ]
  },
  {
   "cell_type": "code",
   "execution_count": 200,
   "id": "800fca48-78b7-4d8b-b0f0-d80555deb0c9",
   "metadata": {},
   "outputs": [],
   "source": [
    "# twoSum([5,5,2],10)"
   ]
  },
  {
   "cell_type": "code",
   "execution_count": 201,
   "id": "9d6d25ea-76d0-46b5-8df0-4e240a08e8a0",
   "metadata": {},
   "outputs": [
    {
     "data": {
      "text/plain": [
       "0"
      ]
     },
     "execution_count": 201,
     "metadata": {},
     "output_type": "execute_result"
    }
   ],
   "source": [
    "# we have \n",
    "num =[7,5,6,3]\n",
    "num[num.index(5) +1 :].index(6)"
   ]
  },
  {
   "cell_type": "code",
   "execution_count": 202,
   "id": "4e613d9d-1444-48e1-b584-8654d14f1b60",
   "metadata": {},
   "outputs": [],
   "source": [
    "def twoSum(nums, target: int) :\n",
    "    seen = {}\n",
    "    for i , num in enumerate(nums):\n",
    "        complement = target - num\n",
    "        if complement in seen:\n",
    "            return [seen[complement], i]\n",
    "        seen[num] = i\n",
    "    return []\n"
   ]
  },
  {
   "cell_type": "code",
   "execution_count": 203,
   "id": "b5333dbb-72a6-4b02-a885-8e3a2d813efd",
   "metadata": {},
   "outputs": [
    {
     "data": {
      "text/plain": [
       "[0, 1]"
      ]
     },
     "execution_count": 203,
     "metadata": {},
     "output_type": "execute_result"
    }
   ],
   "source": [
    "twoSum([5,5,2],10)"
   ]
  },
  {
   "cell_type": "code",
   "execution_count": 204,
   "id": "3b09bdeb-0574-4694-908c-670b9fb3071a",
   "metadata": {},
   "outputs": [],
   "source": [
    "def twoSum(nums, target):\n",
    "    \"\"\"\n",
    "    Finds two numbers in a list that add up to a target sum.\n",
    "\n",
    "    Args:\n",
    "        nums: A list of integers.\n",
    "        target: The target sum.\n",
    "\n",
    "    Returns:\n",
    "        A list containing the indices of the two numbers, or an empty list if no such pair exists.\n",
    "    \"\"\"\n",
    "\n",
    "    seen = {}\n",
    "    for i, num in enumerate(nums):\n",
    "        complement = target - num\n",
    "        if complement in seen:\n",
    "            return [seen[complement], i]\n",
    "        seen[num] = i\n",
    "    return []"
   ]
  },
  {
   "cell_type": "code",
   "execution_count": 205,
   "id": "d78967cd-d48c-458f-b819-e54d7d6cc326",
   "metadata": {},
   "outputs": [
    {
     "name": "stdout",
     "output_type": "stream",
     "text": [
      "<class 'set'>\n"
     ]
    }
   ],
   "source": [
    "print(set)"
   ]
  },
  {
   "cell_type": "code",
   "execution_count": 206,
   "id": "318d5fe8-1465-42d4-be1f-224427047f46",
   "metadata": {},
   "outputs": [],
   "source": [
    "def groupAnagrams(strs) :\n",
    "    '''  we  have  to create the  anagram   group  means   we have to check  whether the  the  given  list does  contain any anagram\n",
    "        so  \n",
    "    '''\n",
    "    l = []\n",
    "    for i,num in enumerate(strs):\n",
    "        if num not in l:\n",
    "            l.append(num)\n",
    "            \n",
    "\n",
    "\n",
    "groupAnagrams(strs = [\"act\",\"pots\",\"tops\",\"cat\",\"stop\",\"hat\"])\n",
    "            "
   ]
  },
  {
   "cell_type": "code",
   "execution_count": 207,
   "id": "75ae77e4-0a87-4859-a5c1-f7afdc868c35",
   "metadata": {},
   "outputs": [
    {
     "data": {
      "text/plain": [
       "'pots'"
      ]
     },
     "execution_count": 207,
     "metadata": {},
     "output_type": "execute_result"
    }
   ],
   "source": [
    "strs = [\"act\",\"pots\",\"tops\",\"cat\",\"stop\",\"hat\"]\n",
    "\n",
    "strs[0+1]"
   ]
  },
  {
   "cell_type": "code",
   "execution_count": 208,
   "id": "880bd81b-4392-49b2-ae58-843b9c87dabf",
   "metadata": {},
   "outputs": [
    {
     "data": {
      "text/plain": [
       "True"
      ]
     },
     "execution_count": 208,
     "metadata": {},
     "output_type": "execute_result"
    }
   ],
   "source": [
    "isAnagram('tops', 'pots')"
   ]
  },
  {
   "cell_type": "code",
   "execution_count": 209,
   "id": "7b61e397-1f6d-4fd8-b525-882b7f26c647",
   "metadata": {},
   "outputs": [
    {
     "data": {
      "text/plain": [
       "314"
      ]
     },
     "execution_count": 209,
     "metadata": {},
     "output_type": "execute_result"
    }
   ],
   "source": [
    "ord(\"a\")  + ord(\"t\") +ord(\"e\")"
   ]
  },
  {
   "cell_type": "code",
   "execution_count": 210,
   "id": "1e4ff80e-9f51-41ea-ab93-b3d60ccdf119",
   "metadata": {},
   "outputs": [],
   "source": [
    "a = [\"ate\",\"ok\"]\n",
    "def Calculating_Ascii_of_string(str_):\n",
    "    a = 0\n",
    "    for value in str_:\n",
    "        a+=ord(value)\n",
    "    return a"
   ]
  },
  {
   "cell_type": "code",
   "execution_count": 211,
   "id": "8d10598e-5564-4e28-8731-0274a5efdfe6",
   "metadata": {},
   "outputs": [
    {
     "data": {
      "text/plain": [
       "314"
      ]
     },
     "execution_count": 211,
     "metadata": {},
     "output_type": "execute_result"
    }
   ],
   "source": [
    "Calculating_Ascii_of_string('eat')"
   ]
  },
  {
   "cell_type": "code",
   "execution_count": null,
   "id": "5574b358-e075-46af-9f66-6720f071f2a9",
   "metadata": {},
   "outputs": [],
   "source": []
  },
  {
   "cell_type": "code",
   "execution_count": 212,
   "id": "033fcba7-2df2-4810-897e-ec5f3a2fc0c2",
   "metadata": {},
   "outputs": [],
   "source": [
    "#   we have  to make  the  list  of anagrams  fronm the   list of  words "
   ]
  },
  {
   "cell_type": "code",
   "execution_count": 213,
   "id": "51e75f5a-9040-4d5e-b643-95a56f5bc98f",
   "metadata": {},
   "outputs": [],
   "source": [
    "# def groupAnagram(lis):\n",
    "#     l = []\n",
    "#     for i,char in enumerate(lis):\n",
    "#         if  char not  in  l:\n",
    "            "
   ]
  },
  {
   "cell_type": "code",
   "execution_count": 214,
   "id": "e97b1e67-c315-4fc3-b82a-7e885f48d544",
   "metadata": {},
   "outputs": [],
   "source": [
    "from collections import defaultdict"
   ]
  },
  {
   "cell_type": "code",
   "execution_count": 215,
   "id": "526af87d-d642-4f80-af0c-1d24dbc38452",
   "metadata": {},
   "outputs": [],
   "source": [
    "l = defaultdict(list)"
   ]
  },
  {
   "cell_type": "code",
   "execution_count": 216,
   "id": "25c79ca3-14d0-4277-b5da-e0b5effa6acc",
   "metadata": {},
   "outputs": [],
   "source": [
    "l['b'].append('bob')"
   ]
  },
  {
   "cell_type": "code",
   "execution_count": 217,
   "id": "4011160a-f615-4a26-a507-37f95d5a1c68",
   "metadata": {},
   "outputs": [
    {
     "data": {
      "text/plain": [
       "defaultdict(list, {'b': ['bob']})"
      ]
     },
     "execution_count": 217,
     "metadata": {},
     "output_type": "execute_result"
    }
   ],
   "source": [
    "l"
   ]
  },
  {
   "cell_type": "code",
   "execution_count": 218,
   "id": "0644326f-6aa0-4ced-9847-4bdb72bf22a1",
   "metadata": {},
   "outputs": [],
   "source": [
    "l['a'].append(\"aoob\")"
   ]
  },
  {
   "cell_type": "code",
   "execution_count": 219,
   "id": "30f13b02-7a9f-49a9-ad5f-d0408722979b",
   "metadata": {},
   "outputs": [
    {
     "data": {
      "text/plain": [
       "defaultdict(list, {'b': ['bob'], 'a': ['aoob']})"
      ]
     },
     "execution_count": 219,
     "metadata": {},
     "output_type": "execute_result"
    }
   ],
   "source": [
    "l"
   ]
  },
  {
   "cell_type": "code",
   "execution_count": 220,
   "id": "3c0568e8-5625-4dcf-9bab-9ef1c9e8e14f",
   "metadata": {},
   "outputs": [],
   "source": [
    "def groupAnagram(lis):\n",
    "    li = defaultdict(list) #  step1 creating the  Dictionary with list  as value\n",
    "    for word in lis:# step 2  iterating over the  list of strings\n",
    "        count = [0]*26 # step creating the  frequency table  \n",
    "        for c in word: #  now  iterating to each char in the string\n",
    "            count[ord(c) - ord('a')] +=1  # making  a  count   in the  lis\n",
    "        li[tuple(count)].append(word)  # appending the   string with  same  frequency list\n",
    "\n",
    "    return list(li.values())"
   ]
  },
  {
   "cell_type": "code",
   "execution_count": 221,
   "id": "418d9c6e-9952-460e-8204-f6b1b5a38431",
   "metadata": {},
   "outputs": [
    {
     "data": {
      "text/plain": [
       "[['act', 'cat'], ['pots', 'tops', 'stop'], ['hat']]"
      ]
     },
     "execution_count": 221,
     "metadata": {},
     "output_type": "execute_result"
    }
   ],
   "source": [
    "groupAnagram([\"act\",\"pots\",\"tops\",\"cat\",\"stop\",\"hat\"])\n"
   ]
  },
  {
   "cell_type": "code",
   "execution_count": null,
   "id": "6e691492-6b93-4fac-81ed-5018d3e43142",
   "metadata": {},
   "outputs": [],
   "source": []
  },
  {
   "cell_type": "code",
   "execution_count": 222,
   "id": "f61b4859-9b03-40e2-97ac-6dc3bcec5935",
   "metadata": {},
   "outputs": [],
   "source": [
    "def groupFreq(lis):\n",
    "    li = defaultdict(list)\n",
    "    for i in lis:\n",
    "        n = len(i)\n",
    "        count = [0]*26  \n",
    "        for c in i:\n",
    "            count[ord(c) - ord('a')] +=1  \n",
    "        li[n].append(i) \n",
    "    return list(li.values())"
   ]
  },
  {
   "cell_type": "code",
   "execution_count": 223,
   "id": "0d8feb53-6d06-4353-a360-6d7a2ad728c3",
   "metadata": {},
   "outputs": [
    {
     "data": {
      "text/plain": [
       "[['abc', 'bca', 'xyz', 'yxz'], ['aabb', 'bbaa'], ['ab', 'ba']]"
      ]
     },
     "execution_count": 223,
     "metadata": {},
     "output_type": "execute_result"
    }
   ],
   "source": [
    "groupFreq([\"abc\", \"bca\", \"xyz\", \"yxz\", \"aabb\", \"bbaa\", \"ab\", \"ba\"])"
   ]
  },
  {
   "cell_type": "code",
   "execution_count": 224,
   "id": "01a95b74-bf49-45e7-aefa-8dcb16b6fc96",
   "metadata": {},
   "outputs": [],
   "source": [
    "from collections import defaultdict\n",
    "\n",
    "def groupFreq(lis):\n",
    "    freq_groups = defaultdict(list)\n",
    "    \n",
    "    for word in lis:\n",
    "        # Create frequency count for the word\n",
    "        freq_count = [0] * 26\n",
    "        for char in word:\n",
    "            freq_count[ord(char) - ord('a')] += 1\n",
    "        # Use tuple of counts as the key\n",
    "        freq_groups[tuple(freq_count)].append(word)\n",
    "    \n",
    "    return list(freq_groups.values())\n"
   ]
  },
  {
   "cell_type": "code",
   "execution_count": null,
   "id": "55167992-3e77-4196-97c9-09eda97d1ceb",
   "metadata": {},
   "outputs": [],
   "source": []
  },
  {
   "cell_type": "code",
   "execution_count": 225,
   "id": "d0a40349-13b9-4196-b852-1cbfb1d6193b",
   "metadata": {},
   "outputs": [
    {
     "data": {
      "text/plain": [
       "[['abc', 'bca'], ['xyz', 'yxz'], ['aabb', 'bbaa'], ['ab', 'ba']]"
      ]
     },
     "execution_count": 225,
     "metadata": {},
     "output_type": "execute_result"
    }
   ],
   "source": [
    "groupFreq([\"abc\", \"bca\", \"xyz\", \"yxz\", \"aabb\", \"bbaa\", \"ab\", \"ba\"])"
   ]
  },
  {
   "cell_type": "code",
   "execution_count": 226,
   "id": "1d09039b-4820-4079-8253-e93d17dc3203",
   "metadata": {},
   "outputs": [],
   "source": [
    "from collections import defaultdict\n",
    "\n",
    "def groupByFrequencyPattern(words):\n",
    "    freq_groups = defaultdict(list)\n",
    "\n",
    "    for word in words:\n",
    "        # Count character frequencies\n",
    "        freq_count = [0] * 26\n",
    "        for char in word:\n",
    "            freq_count[ord(char) - ord('a')] += 1\n",
    "        \n",
    "        # Get the sorted pattern of frequencies (ignore specific characters)\n",
    "        freq_pattern = tuple(sorted([count for count in freq_count if count > 0]))\n",
    "        \n",
    "        # Group words by this pattern\n",
    "        freq_groups[freq_pattern].append(word)\n",
    "\n",
    "    return list(freq_groups.values())\n"
   ]
  },
  {
   "cell_type": "code",
   "execution_count": 227,
   "id": "4371946c-15c9-44b3-a274-687255097420",
   "metadata": {},
   "outputs": [
    {
     "data": {
      "text/plain": [
       "[['abc', 'bca', 'xyz', 'yxz'], ['aabb', 'bbaa'], ['ab', 'ba']]"
      ]
     },
     "execution_count": 227,
     "metadata": {},
     "output_type": "execute_result"
    }
   ],
   "source": [
    "groupByFrequencyPattern([\"abc\", \"bca\", \"xyz\", \"yxz\", \"aabb\", \"bbaa\", \"ab\", \"ba\"])"
   ]
  },
  {
   "cell_type": "code",
   "execution_count": 228,
   "id": "1cd0ea3c-0bb5-44fd-bf0e-53ddc181a529",
   "metadata": {},
   "outputs": [],
   "source": [
    "# WE  have  to  calculate the   longest  same  frequencies  substring\n",
    "\n",
    "def longest_substrin(str_):\n",
    "    d = defaultdict(list)\n",
    "    for i in str_:\n",
    "        count = [0]*26\n",
    "        count[ord(i) - ord('a')] +=1\n",
    "        d[ord(i)].append(i)\n",
    "    return list(d.values())"
   ]
  },
  {
   "cell_type": "code",
   "execution_count": 229,
   "id": "8dffcc52-5dc3-4ee5-b0eb-33a834d2877c",
   "metadata": {},
   "outputs": [
    {
     "data": {
      "text/plain": [
       "[['a', 'a'], ['b', 'b'], ['c', 'c'], ['d', 'd']]"
      ]
     },
     "execution_count": 229,
     "metadata": {},
     "output_type": "execute_result"
    }
   ],
   "source": [
    "longest_substrin(\"aabbccdd\")"
   ]
  },
  {
   "cell_type": "code",
   "execution_count": null,
   "id": "a7a728e1-2266-4b6c-8431-56f4cba6e9ac",
   "metadata": {},
   "outputs": [],
   "source": []
  },
  {
   "cell_type": "code",
   "execution_count": null,
   "id": "838b724f-dc52-4385-91a4-79c0f2a5a9ff",
   "metadata": {},
   "outputs": [],
   "source": []
  },
  {
   "cell_type": "code",
   "execution_count": 230,
   "id": "7cf0c245-58da-4595-b0c4-cbb22076b31f",
   "metadata": {},
   "outputs": [],
   "source": [
    "def  value_same(dict_):\n",
    "    first_value = list(dict_.values())[0]\n",
    "    for value in dict_.values():\n",
    "        if value != first_value:\n",
    "            return False\n",
    "    return True"
   ]
  },
  {
   "cell_type": "code",
   "execution_count": 231,
   "id": "58ed487d-de61-4616-8ed9-fd5c40b8d07b",
   "metadata": {},
   "outputs": [],
   "source": [
    "# we  are simply running the  lloop  where  we  are  check ing   each element  are  same  and if  it is   then  we  will return  True  \n",
    "# simply whole loop  run easily then it is  true  else  there will be catch   is in the   loop which will return the false  "
   ]
  },
  {
   "cell_type": "code",
   "execution_count": 232,
   "id": "d957a96b-4447-4a60-b469-1dd9be36cc12",
   "metadata": {},
   "outputs": [
    {
     "data": {
      "text/plain": [
       "False"
      ]
     },
     "execution_count": 232,
     "metadata": {},
     "output_type": "execute_result"
    }
   ],
   "source": [
    "s = defaultdict(int)\n",
    "# s={}\n",
    "s['a'] = 1\n",
    "s['a'] = 2\n",
    "s['b'] = 1\n",
    "value_same(s)\n"
   ]
  },
  {
   "cell_type": "code",
   "execution_count": 233,
   "id": "35708ba5-f4c2-45b5-8c1b-85654e9824df",
   "metadata": {},
   "outputs": [
    {
     "data": {
      "text/plain": [
       "'aa'"
      ]
     },
     "execution_count": 233,
     "metadata": {},
     "output_type": "execute_result"
    }
   ],
   "source": [
    "s = 'aaavvc'\n",
    "s[:1+1]"
   ]
  },
  {
   "cell_type": "code",
   "execution_count": 234,
   "id": "f06a81bf-f28a-4dff-8f81-a7de9f73af1b",
   "metadata": {},
   "outputs": [],
   "source": [
    "def count_checker(s_,k):\n",
    "    c  = 0\n",
    "    for i in s_:\n",
    "        if i == k:\n",
    "            c+=1\n",
    "    return c\n",
    "        "
   ]
  },
  {
   "cell_type": "code",
   "execution_count": 235,
   "id": "651f8666-8d9f-448a-a36d-8bdf1dabea3f",
   "metadata": {},
   "outputs": [],
   "source": [
    "#  WE  can  do the  thing  with the  two  pointer  one  will be  at starting and other  will be  move  and   will calculate the  frequencies "
   ]
  },
  {
   "cell_type": "code",
   "execution_count": 236,
   "id": "dbd31aec-d939-4ba2-91d7-0254aed6896c",
   "metadata": {},
   "outputs": [],
   "source": [
    "# from  collections import defaultdict\n",
    "\n",
    "# def  value_same(dict_):\n",
    "#     first_value = list(dict_.values())[0]\n",
    "#     for value in dict_.values():\n",
    "#         if value != first_value:\n",
    "#             return False\n",
    "#     return True\n",
    "    \n",
    "# def count(s_,k):\n",
    "#     c  = 0\n",
    "#     for i in s_:\n",
    "#         if i == k:\n",
    "#             c+=1\n",
    "#     return c\n",
    "# def longest_substring(str_):\n",
    "#     left = 0\n",
    "#     s = defaultdict(int)\n",
    "#     max_length = 0\n",
    "#     for right,val in enumerate(str_):\n",
    "#         if value_same(s):\n",
    "#             for i in str_[:right+1]:\n",
    "#                 s[i] = count(str_[:right+1],val)\n",
    "\n",
    "#         elif not value_same(s):\n",
    "#             left+=1\n",
    "#             for i in str_[left:right+1]:\n",
    "#                 s[i] = count(str_[left:right+1],i)\n",
    "#         max_length = max(max_length, right - left + 1)\n",
    "#     return max_length\n",
    "\n",
    "# s = \"aabb\"\n",
    "# print(longest_substring(s))"
   ]
  },
  {
   "cell_type": "code",
   "execution_count": 237,
   "id": "b994c7b5-cfe4-4ead-9643-e3fdc49a2576",
   "metadata": {},
   "outputs": [
    {
     "data": {
      "text/plain": [
       "7"
      ]
     },
     "execution_count": 237,
     "metadata": {},
     "output_type": "execute_result"
    }
   ],
   "source": [
    "8-2+1"
   ]
  },
  {
   "cell_type": "code",
   "execution_count": 238,
   "id": "b2ec2494-f9cc-4134-8ec0-aa5c2ceffaab",
   "metadata": {},
   "outputs": [
    {
     "name": "stdout",
     "output_type": "stream",
     "text": [
      "2\n"
     ]
    }
   ],
   "source": [
    "from  collections import defaultdict\n",
    "\n",
    "def value_same(d):\n",
    "    values = list(d.values())\n",
    "    return all(v==values[0] for v in d.values())\n",
    "\n",
    "def count(string, k):\n",
    "    return string.count(k)\n",
    "\n",
    "def longest_substtring(str):\n",
    "    left = 0\n",
    "    max_length = 0\n",
    "    freq  = defaultdict(int)\n",
    "    for right in range(len(str)):\n",
    "        \n",
    "        freq[str[right]] += 1\n",
    "        \n",
    "        while not value_same(freq):\n",
    "            freq[str[left]] -=1\n",
    "            if freq[str[left]] == 0:\n",
    "                del freq[str[left]]\n",
    "            left+=1\n",
    "        max_length = max(max_length, right - left + 1)\n",
    "    return max_length\n",
    "\n",
    "s = \"aacc\"\n",
    "print(longest_substtring(s))"
   ]
  },
  {
   "cell_type": "code",
   "execution_count": 239,
   "id": "cd731e97-e67f-40ac-b3a0-9371ed1e881d",
   "metadata": {},
   "outputs": [],
   "source": [
    "s = {'a' : 1 , 'b' : 1}\n",
    "str_ = 'bb'\n",
    "left = 0\n",
    "right =1\n",
    "for i in str_[left:right+1]:\n",
    "                s[i] = count(str_[left:right+1],i)"
   ]
  },
  {
   "cell_type": "code",
   "execution_count": 240,
   "id": "ec4f6363-7078-4579-a8a4-de136a9fe3bd",
   "metadata": {},
   "outputs": [
    {
     "data": {
      "text/plain": [
       "{'a': 1, 'b': 2}"
      ]
     },
     "execution_count": 240,
     "metadata": {},
     "output_type": "execute_result"
    }
   ],
   "source": [
    "s"
   ]
  },
  {
   "cell_type": "code",
   "execution_count": 241,
   "id": "bc1f0674-4817-45de-aebf-70ef56050edc",
   "metadata": {},
   "outputs": [
    {
     "name": "stdout",
     "output_type": "stream",
     "text": [
      "5\n"
     ]
    }
   ],
   "source": [
    "from collections import defaultdict\n",
    "\n",
    "def value_same(freq_map):\n",
    "    # Check if all non-zero values in the dictionary are the same\n",
    "    values = [v for v in freq_map.values() if v > 0]\n",
    "    return len(set(values)) == 1\n",
    "\n",
    "def longest_substring(s):\n",
    "    left = 0\n",
    "    freq_map = defaultdict(int)\n",
    "    max_length = 0\n",
    "\n",
    "    for right in range(len(s)):\n",
    "        # Add the current character to the frequency map\n",
    "        freq_map[s[right]] += 1\n",
    "\n",
    "        # Shrink the window until the frequencies become valid\n",
    "        while not value_same(freq_map):\n",
    "            freq_map[s[left]] -= 1\n",
    "            if freq_map[s[left]] == 0:\n",
    "                del freq_map[s[left]]\n",
    "            left += 1\n",
    "\n",
    "        # Update the maximum length of a valid substring\n",
    "        max_length = max(max_length, right - left + 1)\n",
    "\n",
    "    return max_length\n",
    "\n",
    "# Example usage\n",
    "s = \"aaabbccccc\"\n",
    "print(longest_substring(s))  # Output: 7 (substring \"bbccccc\")\n"
   ]
  },
  {
   "cell_type": "code",
   "execution_count": 242,
   "id": "bc8a68ff-f8d5-47c5-ad29-3ca0cc179210",
   "metadata": {},
   "outputs": [],
   "source": [
    "#   now  we  have  to reduce  anagram "
   ]
  },
  {
   "cell_type": "code",
   "execution_count": 243,
   "id": "385b9014-d6bf-4556-ab4f-0aec7c87e677",
   "metadata": {},
   "outputs": [
    {
     "data": {
      "text/plain": [
       "[1]"
      ]
     },
     "execution_count": 243,
     "metadata": {},
     "output_type": "execute_result"
    }
   ],
   "source": [
    "# Given an integer array nums and an integer k, return the k most frequent elements within the array.\n",
    "\n",
    "# The test cases are generated such that the answer is always unique.\n",
    "\n",
    "# You may return the output in any order.\n",
    "\n",
    "# Example 1:\n",
    "\n",
    "# Input: nums = [1,2,2,3,3,3], k = 2\n",
    "\n",
    "# Output: [2,3]\n",
    "\n",
    "# Example 2:\n",
    "\n",
    "# Input: nums = [7,7], k = 1\n",
    "\n",
    "# Output: [7]\n",
    "\n",
    "# Constraints:\n",
    "\n",
    "#     1 <= nums.length <= 10^4.\n",
    "#     -1000 <= nums[i] <= 1000\n",
    "#     1 <= k <= number of distinct elements in nums.\n",
    "\n",
    "from collections  import Counter\n",
    "\n",
    "l = [1,2,2,3,3,3]\n",
    "\n",
    "\n",
    "def k_frequent(df,k):\n",
    "    s = Counter(df)\n",
    "    p = s.most_common()\n",
    "    p_1 = [v[0] for v in p]\n",
    "\n",
    "    return p_1[k:]\n",
    "\n",
    "k_frequent(l,2)\n",
    "    "
   ]
  },
  {
   "cell_type": "code",
   "execution_count": 244,
   "id": "ebf84f0d-7ddf-4fcc-aa26-6e330df3ebf1",
   "metadata": {},
   "outputs": [],
   "source": [
    "l = [1,2,2,2,2,3,3,3]\n",
    "\n",
    "s = {}\n",
    "for i in l:\n",
    "    if i not in s:\n",
    "        s[i] = 1\n",
    "    else:\n",
    "        s[i] += 1"
   ]
  },
  {
   "cell_type": "code",
   "execution_count": 245,
   "id": "4c4945ae-eb36-45ab-9f62-6cb405e2b594",
   "metadata": {},
   "outputs": [
    {
     "data": {
      "text/plain": [
       "{1: 1, 2: 4, 3: 3}"
      ]
     },
     "execution_count": 245,
     "metadata": {},
     "output_type": "execute_result"
    }
   ],
   "source": [
    "s"
   ]
  },
  {
   "cell_type": "code",
   "execution_count": 246,
   "id": "04e1703b-6e8d-4226-b556-287a5d07a85e",
   "metadata": {},
   "outputs": [
    {
     "data": {
      "text/plain": [
       "{1, 2, 3}"
      ]
     },
     "execution_count": 246,
     "metadata": {},
     "output_type": "execute_result"
    }
   ],
   "source": [
    "set(l)"
   ]
  },
  {
   "cell_type": "code",
   "execution_count": 247,
   "id": "d566bc4e-0def-497a-9af3-c238aaf7d1c8",
   "metadata": {},
   "outputs": [],
   "source": [
    "s = {i:l.count(i) for i in set(l)}"
   ]
  },
  {
   "cell_type": "code",
   "execution_count": 248,
   "id": "a7e30037-5b07-4cdd-9614-68c9d44d62d2",
   "metadata": {},
   "outputs": [
    {
     "data": {
      "text/plain": [
       "{1: 1, 2: 4, 3: 3}"
      ]
     },
     "execution_count": 248,
     "metadata": {},
     "output_type": "execute_result"
    }
   ],
   "source": [
    "s"
   ]
  },
  {
   "cell_type": "code",
   "execution_count": null,
   "id": "c2a2a48f-3b3b-4bb7-b82d-649e47075cf2",
   "metadata": {},
   "outputs": [],
   "source": []
  },
  {
   "cell_type": "code",
   "execution_count": 249,
   "id": "70094505-1482-4cd8-adf5-27ea43a56333",
   "metadata": {},
   "outputs": [],
   "source": [
    "l1 = Counter(l)"
   ]
  },
  {
   "cell_type": "code",
   "execution_count": 250,
   "id": "679bdd77-357b-4e90-881e-fa0781643867",
   "metadata": {},
   "outputs": [
    {
     "data": {
      "text/plain": [
       "dict_keys([1, 2, 3])"
      ]
     },
     "execution_count": 250,
     "metadata": {},
     "output_type": "execute_result"
    }
   ],
   "source": [
    "l1.keys()"
   ]
  },
  {
   "cell_type": "code",
   "execution_count": 251,
   "id": "e6cdc425-f2f6-447d-9365-31fe4339da78",
   "metadata": {},
   "outputs": [
    {
     "data": {
      "text/plain": [
       "[1, 4, 3]"
      ]
     },
     "execution_count": 251,
     "metadata": {},
     "output_type": "execute_result"
    }
   ],
   "source": [
    "list(l1.values())"
   ]
  },
  {
   "cell_type": "code",
   "execution_count": 252,
   "id": "badc57eb-c9b0-40b1-91bb-9983c321fcfb",
   "metadata": {},
   "outputs": [
    {
     "data": {
      "text/plain": [
       "Counter({2: 4, 3: 3, 1: 1})"
      ]
     },
     "execution_count": 252,
     "metadata": {},
     "output_type": "execute_result"
    }
   ],
   "source": [
    "l1"
   ]
  },
  {
   "cell_type": "code",
   "execution_count": null,
   "id": "fdb6a3bd-d7bc-434f-bb10-c043636c2773",
   "metadata": {},
   "outputs": [],
   "source": []
  },
  {
   "cell_type": "code",
   "execution_count": 253,
   "id": "7f28ac44-11ab-46cd-9065-2e3edb589469",
   "metadata": {},
   "outputs": [],
   "source": [
    "p = l1.most_common()"
   ]
  },
  {
   "cell_type": "code",
   "execution_count": 254,
   "id": "3de644d5-d97e-4a75-9c70-56bdc3d3d574",
   "metadata": {},
   "outputs": [
    {
     "data": {
      "text/plain": [
       "[(2, 4), (3, 3), (1, 1)]"
      ]
     },
     "execution_count": 254,
     "metadata": {},
     "output_type": "execute_result"
    }
   ],
   "source": [
    "p"
   ]
  },
  {
   "cell_type": "code",
   "execution_count": 255,
   "id": "1453e340-1f9c-4e4a-9f63-ea89153b4500",
   "metadata": {},
   "outputs": [],
   "source": [
    "p_1 = [v[0] for v in p]"
   ]
  },
  {
   "cell_type": "code",
   "execution_count": 256,
   "id": "5f7d3c58-4b28-4623-90d7-596230a50bb5",
   "metadata": {},
   "outputs": [
    {
     "data": {
      "text/plain": [
       "[2, 3]"
      ]
     },
     "execution_count": 256,
     "metadata": {},
     "output_type": "execute_result"
    }
   ],
   "source": [
    "p_1[:2]"
   ]
  },
  {
   "cell_type": "code",
   "execution_count": 257,
   "id": "ef223cb0-483f-4362-b214-82f229a7d187",
   "metadata": {},
   "outputs": [
    {
     "data": {
      "text/plain": [
       "[1, 2]"
      ]
     },
     "execution_count": 257,
     "metadata": {},
     "output_type": "execute_result"
    }
   ],
   "source": [
    "def k_frequent(df,k):\n",
    "    s = Counter(df)\n",
    "    return [v[0] for v in s.most_common(k)]  # most common  usually  uses  the  heapq  for \n",
    "\n",
    "l = [1, 1, 1, 2, 2, 3, 3]\n",
    "k_frequent(l,2)\n",
    "    "
   ]
  },
  {
   "cell_type": "code",
   "execution_count": 258,
   "id": "5ad3b141-077d-4c95-8af0-4ecd4830e6d9",
   "metadata": {},
   "outputs": [
    {
     "data": {
      "text/plain": [
       "[3, 3, 2, 2, 1, 1, 1]"
      ]
     },
     "execution_count": 258,
     "metadata": {},
     "output_type": "execute_result"
    }
   ],
   "source": [
    "l[::-1]"
   ]
  },
  {
   "cell_type": "code",
   "execution_count": 259,
   "id": "33ccaa17-5bed-4d42-9699-e35bd069ce8d",
   "metadata": {},
   "outputs": [
    {
     "data": {
      "text/plain": [
       "Counter({2: 4, 3: 3, 1: 1})"
      ]
     },
     "execution_count": 259,
     "metadata": {},
     "output_type": "execute_result"
    }
   ],
   "source": [
    "l1"
   ]
  },
  {
   "cell_type": "code",
   "execution_count": 260,
   "id": "b55c0248-f09a-42b5-b347-d1b1d2a4d65b",
   "metadata": {},
   "outputs": [],
   "source": [
    "o = l1.keys()"
   ]
  },
  {
   "cell_type": "code",
   "execution_count": 261,
   "id": "3daf99b2-6669-4e48-b639-1fc7315d8171",
   "metadata": {},
   "outputs": [
    {
     "data": {
      "text/plain": [
       "dict_keys([1, 2, 3])"
      ]
     },
     "execution_count": 261,
     "metadata": {},
     "output_type": "execute_result"
    }
   ],
   "source": [
    "o"
   ]
  },
  {
   "cell_type": "code",
   "execution_count": 262,
   "id": "d4aa909a-4584-4629-b33b-7e11eb398b7b",
   "metadata": {},
   "outputs": [
    {
     "data": {
      "text/plain": [
       "dict_values([1, 4, 3])"
      ]
     },
     "execution_count": 262,
     "metadata": {},
     "output_type": "execute_result"
    }
   ],
   "source": [
    "l1.values()"
   ]
  },
  {
   "cell_type": "code",
   "execution_count": 263,
   "id": "663334cf-b1a1-46df-92a1-8a371e292043",
   "metadata": {},
   "outputs": [
    {
     "data": {
      "text/plain": [
       "Counter({2: 4, 3: 3, 1: 1})"
      ]
     },
     "execution_count": 263,
     "metadata": {},
     "output_type": "execute_result"
    }
   ],
   "source": [
    "l1"
   ]
  },
  {
   "cell_type": "code",
   "execution_count": 264,
   "id": "84b1eca3-622b-41b6-85d7-52ebbb759338",
   "metadata": {},
   "outputs": [
    {
     "data": {
      "text/plain": [
       "{1: 1, 2: 4, 3: 3}"
      ]
     },
     "execution_count": 264,
     "metadata": {},
     "output_type": "execute_result"
    }
   ],
   "source": [
    "s"
   ]
  },
  {
   "cell_type": "code",
   "execution_count": 265,
   "id": "5761a18f-6cd5-4ca1-8949-296bf4fb1ae9",
   "metadata": {},
   "outputs": [
    {
     "data": {
      "text/plain": [
       "dict_values([1, 4, 3])"
      ]
     },
     "execution_count": 265,
     "metadata": {},
     "output_type": "execute_result"
    }
   ],
   "source": [
    "s.values()"
   ]
  },
  {
   "cell_type": "code",
   "execution_count": 266,
   "id": "ea4a8c56-071e-4502-a153-91340bcfdd9e",
   "metadata": {},
   "outputs": [],
   "source": [
    "l = [3, 3, 3, 2, 2, 1]"
   ]
  },
  {
   "cell_type": "code",
   "execution_count": 267,
   "id": "bddd7fa3-0b2e-4167-8a91-d7e52bfdf2e6",
   "metadata": {},
   "outputs": [],
   "source": [
    "s = {s : l.count(s) for s in l}"
   ]
  },
  {
   "cell_type": "code",
   "execution_count": 268,
   "id": "efd963b9-c155-49b1-a8c2-b435a63a312b",
   "metadata": {},
   "outputs": [],
   "source": [
    "l = [1, 5,5,5 , 2,2,2, 4,8]"
   ]
  },
  {
   "cell_type": "code",
   "execution_count": 269,
   "id": "a8ccb1c0-c74b-461f-a8bb-77e49e65d925",
   "metadata": {},
   "outputs": [],
   "source": [
    "def k_frequent(lis, k):\n",
    "    s = {s : lis.count(s) for s in lis}"
   ]
  },
  {
   "cell_type": "code",
   "execution_count": 270,
   "id": "8cf9196a-2b05-4444-81a2-bca0087aa790",
   "metadata": {},
   "outputs": [
    {
     "data": {
      "text/plain": [
       "[1, 5, 5, 5, 2, 2, 2, 4, 8]"
      ]
     },
     "execution_count": 270,
     "metadata": {},
     "output_type": "execute_result"
    }
   ],
   "source": [
    "l"
   ]
  },
  {
   "cell_type": "code",
   "execution_count": 271,
   "id": "a204cc0b-d8da-4bc4-932d-7ecd1a6cca81",
   "metadata": {},
   "outputs": [
    {
     "data": {
      "text/plain": [
       "{1: 1, 5: 3, 2: 3, 4: 1, 8: 1}"
      ]
     },
     "execution_count": 271,
     "metadata": {},
     "output_type": "execute_result"
    }
   ],
   "source": [
    "s = {s : l.count(s) for s in l}\n",
    "s"
   ]
  },
  {
   "cell_type": "code",
   "execution_count": 272,
   "id": "5bb68daf-ec46-49e9-9f84-c9daa5889611",
   "metadata": {},
   "outputs": [
    {
     "data": {
      "text/plain": [
       "[1, 3, 3, 1, 1]"
      ]
     },
     "execution_count": 272,
     "metadata": {},
     "output_type": "execute_result"
    }
   ],
   "source": [
    "o = list(s.values())\n",
    "# o.sort()\n",
    "o"
   ]
  },
  {
   "cell_type": "code",
   "execution_count": 273,
   "id": "4306ad41-e576-46c5-a9dc-14e6b86cb7b7",
   "metadata": {},
   "outputs": [
    {
     "data": {
      "text/plain": [
       "[1, 5, 2, 4, 8]"
      ]
     },
     "execution_count": 273,
     "metadata": {},
     "output_type": "execute_result"
    }
   ],
   "source": [
    "o1 = list(s.keys())\n",
    "o1"
   ]
  },
  {
   "cell_type": "code",
   "execution_count": 274,
   "id": "62aa65c4-134c-49bc-9ca6-282c0f305f66",
   "metadata": {},
   "outputs": [],
   "source": [
    "a = list(zip(o1,o))"
   ]
  },
  {
   "cell_type": "code",
   "execution_count": 275,
   "id": "816b45ff-fb46-40b2-a124-86feecb203be",
   "metadata": {},
   "outputs": [
    {
     "name": "stdout",
     "output_type": "stream",
     "text": [
      "(1, 1)\n",
      "(5, 3)\n",
      "(2, 3)\n",
      "(4, 1)\n",
      "(8, 1)\n"
     ]
    }
   ],
   "source": [
    "for i in zip(o1,o):\n",
    "    print(i)"
   ]
  },
  {
   "cell_type": "code",
   "execution_count": 276,
   "id": "c7b04dc4-b634-4f81-b9a5-108ae12a699c",
   "metadata": {},
   "outputs": [
    {
     "data": {
      "text/plain": [
       "100000"
      ]
     },
     "execution_count": 276,
     "metadata": {},
     "output_type": "execute_result"
    }
   ],
   "source": [
    "1000*100"
   ]
  },
  {
   "cell_type": "code",
   "execution_count": 277,
   "id": "e9de38c2-a6b8-46d8-8d12-fd49a0339ca7",
   "metadata": {},
   "outputs": [
    {
     "data": {
      "text/plain": [
       "1000000"
      ]
     },
     "execution_count": 277,
     "metadata": {},
     "output_type": "execute_result"
    }
   ],
   "source": [
    "1000*1000"
   ]
  },
  {
   "cell_type": "code",
   "execution_count": 278,
   "id": "2835f69d-687b-45e2-875d-6070caca2ecc",
   "metadata": {},
   "outputs": [
    {
     "data": {
      "text/plain": [
       "[(1, 1), (5, 3), (2, 3), (4, 1), (8, 1)]"
      ]
     },
     "execution_count": 278,
     "metadata": {},
     "output_type": "execute_result"
    }
   ],
   "source": [
    "# sorted(a, key = a[1])\n",
    "a"
   ]
  },
  {
   "cell_type": "code",
   "execution_count": 279,
   "id": "4fcd687e-9e52-4364-89a5-ccfc1de5e655",
   "metadata": {},
   "outputs": [],
   "source": [
    "def  re(lis,k):\n",
    "    s = {s : l.count(s) for  s in lis}\n",
    "    "
   ]
  },
  {
   "cell_type": "code",
   "execution_count": 280,
   "id": "2535b617-a528-43dc-b8f3-962c8213f946",
   "metadata": {},
   "outputs": [
    {
     "data": {
      "text/plain": [
       "8"
      ]
     },
     "execution_count": 280,
     "metadata": {},
     "output_type": "execute_result"
    }
   ],
   "source": [
    "max(s)"
   ]
  },
  {
   "cell_type": "code",
   "execution_count": 281,
   "id": "045558bc-81a1-4177-8cbf-a40389b91fa7",
   "metadata": {},
   "outputs": [
    {
     "data": {
      "text/plain": [
       "dict_keys([1, 5, 2, 4, 8])"
      ]
     },
     "execution_count": 281,
     "metadata": {},
     "output_type": "execute_result"
    }
   ],
   "source": [
    "s.keys()"
   ]
  },
  {
   "cell_type": "code",
   "execution_count": 282,
   "id": "29abbd4e-92ae-402b-b6f8-71ec8eb5bf04",
   "metadata": {},
   "outputs": [
    {
     "data": {
      "text/plain": [
       "[1, 3, 3, 1, 1]"
      ]
     },
     "execution_count": 282,
     "metadata": {},
     "output_type": "execute_result"
    }
   ],
   "source": [
    "o"
   ]
  },
  {
   "cell_type": "code",
   "execution_count": 283,
   "id": "923b9759-874e-463d-9c54-ad3ee58ba50b",
   "metadata": {},
   "outputs": [],
   "source": [
    "# #  we are going to delete the element and get the element of the max k  elemen\n",
    "\n",
    "# k = 2\n",
    "# l = []\n",
    "# for i in s.keys():\n",
    "    "
   ]
  },
  {
   "cell_type": "code",
   "execution_count": null,
   "id": "b3cbcd2f-b365-4033-9ebb-fa8c434a5233",
   "metadata": {},
   "outputs": [],
   "source": []
  },
  {
   "cell_type": "code",
   "execution_count": 284,
   "id": "3ba5d463-0a6a-4e1c-9aee-39987331da71",
   "metadata": {},
   "outputs": [],
   "source": [
    "import re\n",
    "def disemvowel(string_):\n",
    "    p = re.compile(r'[aeiouAEIOU]')\n",
    "    return p.sub(\"\",string_)\n",
    "                   \n",
    "     "
   ]
  },
  {
   "cell_type": "code",
   "execution_count": 285,
   "id": "359eeb89-5c21-4f49-92e9-c7ea716c99fc",
   "metadata": {},
   "outputs": [],
   "source": [
    "s=\"\"\" import codewars_test as test\n",
    "from solution import disemvowel\n",
    "\n",
    "@test.describe(\"Fixed Tests\")\n",
    "def basic_tests():\n",
    "    @test.it(\"First fixed test\")\n",
    "    def fixed_test_1():\n",
    "        test.assert_equals(disemvowel(\"This website is for losers LOL!\"), \"Ths wbst s fr lsrs LL!\", 'Incorrect answer for input=\"This website is for losers LOL!\"\\n')\n",
    "    @test.it(\"Second fixed test\")\n",
    "    def fixed_test_2():\n",
    "        test.assert_equals(disemvowel(\"No offense but,\\nYour writing is among the worst I've ever read\"), \"N ffns bt,\\nYr wrtng s mng th wrst 'v vr rd\", 'Incorrect answer for input=\"No offense but,\\nYour writing is among the worst I\\'ve ever read\"\\n')\n",
    "    @test.it(\"Third fixed test\")\n",
    "    def fixed_test_3():\n",
    "        test.assert_equals(disemvowel(\"What are you, a communist?\"), \"Wht r y,  cmmnst?\", 'Incorrect answer for input=\"What are you, a communist?\"\\n')\"\"\""
   ]
  },
  {
   "cell_type": "code",
   "execution_count": 286,
   "id": "2a5f5b2d-6087-47ac-85f0-961b27b4d16d",
   "metadata": {},
   "outputs": [
    {
     "data": {
      "text/plain": [
       "' mprt cdwrs_tst s tst\\nfrm sltn mprt dsmvwl\\n\\n@tst.dscrb(\"Fxd Tsts\")\\ndf bsc_tsts():\\n    @tst.t(\"Frst fxd tst\")\\n    df fxd_tst_1():\\n        tst.ssrt_qls(dsmvwl(\"Ths wbst s fr lsrs LL!\"), \"Ths wbst s fr lsrs LL!\", \\'ncrrct nswr fr npt=\"Ths wbst s fr lsrs LL!\"\\n\\')\\n    @tst.t(\"Scnd fxd tst\")\\n    df fxd_tst_2():\\n        tst.ssrt_qls(dsmvwl(\"N ffns bt,\\nYr wrtng s mng th wrst \\'v vr rd\"), \"N ffns bt,\\nYr wrtng s mng th wrst \\'v vr rd\", \\'ncrrct nswr fr npt=\"N ffns bt,\\nYr wrtng s mng th wrst \\'v vr rd\"\\n\\')\\n    @tst.t(\"Thrd fxd tst\")\\n    df fxd_tst_3():\\n        tst.ssrt_qls(dsmvwl(\"Wht r y,  cmmnst?\"), \"Wht r y,  cmmnst?\", \\'ncrrct nswr fr npt=\"Wht r y,  cmmnst?\"\\n\\')'"
      ]
     },
     "execution_count": 286,
     "metadata": {},
     "output_type": "execute_result"
    }
   ],
   "source": [
    "disemvowel(s)"
   ]
  },
  {
   "cell_type": "code",
   "execution_count": null,
   "id": "830508ed-9eb2-4467-a621-32da20196f47",
   "metadata": {},
   "outputs": [],
   "source": []
  },
  {
   "cell_type": "code",
   "execution_count": 287,
   "id": "9ff08556-6009-4df3-96bf-6a4817b19808",
   "metadata": {},
   "outputs": [],
   "source": [
    "def validate_pin(pin):\n",
    "    p = re.compile(r'\\d{4}')\n",
    "    p1 = re.compile(r'\\d{6}')\n",
    "    if pin == p or pin ==p1:\n",
    "        return True\n",
    "    return False"
   ]
  },
  {
   "cell_type": "code",
   "execution_count": 288,
   "id": "b612b87c-3282-40a5-80b1-0e178c9020f3",
   "metadata": {},
   "outputs": [
    {
     "data": {
      "text/plain": [
       "False"
      ]
     },
     "execution_count": 288,
     "metadata": {},
     "output_type": "execute_result"
    }
   ],
   "source": [
    "validate_pin('1223')"
   ]
  },
  {
   "cell_type": "code",
   "execution_count": 289,
   "id": "9c9d9327-a0ee-4b7a-b6ff-4b672aad5271",
   "metadata": {},
   "outputs": [],
   "source": [
    "p = re.compile(r'\\d{4}')\n"
   ]
  },
  {
   "cell_type": "code",
   "execution_count": 290,
   "id": "9d2a5059-0db9-438f-93a1-d3d67cb71402",
   "metadata": {},
   "outputs": [
    {
     "data": {
      "text/plain": [
       "True"
      ]
     },
     "execution_count": 290,
     "metadata": {},
     "output_type": "execute_result"
    }
   ],
   "source": [
    "def valid(pin):\n",
    "    p = re.compile(r'\\d{4}')\n",
    "    p1 = re.compile(r'\\d{6}')\n",
    "   \n",
    "    if p.search(pin) or p1.search(pin):\n",
    "        return True\n",
    "    return False\n",
    "valid('12234')"
   ]
  },
  {
   "cell_type": "code",
   "execution_count": 291,
   "id": "a5a61f2b-1a15-427d-a446-24616f86a6d8",
   "metadata": {},
   "outputs": [
    {
     "data": {
      "text/plain": [
       "<re.Match object; span=(0, 4), match='1234'>"
      ]
     },
     "execution_count": 291,
     "metadata": {},
     "output_type": "execute_result"
    }
   ],
   "source": [
    "p.match('1234')"
   ]
  },
  {
   "cell_type": "code",
   "execution_count": 335,
   "id": "8d6d5103-9eec-445f-96cc-9785b1444c61",
   "metadata": {},
   "outputs": [],
   "source": [
    "arr = [1,2,5,6]\n",
    "arr1 = [3,5,7,8]\n",
    "\n",
    "arr.extend(arr1)"
   ]
  },
  {
   "cell_type": "code",
   "execution_count": 336,
   "id": "4866d69d-3749-46e2-bd0c-e9e651555eda",
   "metadata": {},
   "outputs": [
    {
     "data": {
      "text/plain": [
       "8"
      ]
     },
     "execution_count": 336,
     "metadata": {},
     "output_type": "execute_result"
    }
   ],
   "source": [
    "len(arr)"
   ]
  },
  {
   "cell_type": "code",
   "execution_count": 337,
   "id": "0c3a1f24-7326-44d2-b2df-319430939a8f",
   "metadata": {},
   "outputs": [],
   "source": [
    "import statistics"
   ]
  },
  {
   "cell_type": "code",
   "execution_count": 338,
   "id": "9a91d396-65f9-44e1-8214-1432e19e5a28",
   "metadata": {},
   "outputs": [
    {
     "data": {
      "text/plain": [
       "5.0"
      ]
     },
     "execution_count": 338,
     "metadata": {},
     "output_type": "execute_result"
    }
   ],
   "source": [
    "statistics.median(arr)"
   ]
  },
  {
   "cell_type": "code",
   "execution_count": 357,
   "id": "771239c4-26b0-48f3-90bc-d3559ae4f227",
   "metadata": {},
   "outputs": [
    {
     "data": {
      "text/plain": [
       "2"
      ]
     },
     "execution_count": 357,
     "metadata": {},
     "output_type": "execute_result"
    }
   ],
   "source": [
    "arr = [1,3]\n",
    "arr2 = [2]\n",
    "\n",
    "a = [1,2,3]\n",
    "statistics.median(a)"
   ]
  },
  {
   "cell_type": "code",
   "execution_count": 437,
   "id": "95ef3767-3a65-445d-8c8b-463bb31117ef",
   "metadata": {},
   "outputs": [],
   "source": [
    "def  time_wrapper(func):\n",
    "    def wrapper(*args, **kwargs):\n",
    "        start = time.time()\n",
    "        result = func(*args, **kwargs)\n",
    "        end = time.time()\n",
    "        print(f\"The  time  taken to solve the problem is {end-start} \")\n",
    "        return result\n",
    "    return wrapper"
   ]
  },
  {
   "cell_type": "code",
   "execution_count": 438,
   "id": "c1b4db8c-a92f-45ae-ba60-8ad56527ea5e",
   "metadata": {},
   "outputs": [],
   "source": [
    "@time_wrapper\n",
    "def median_two_sorteed_arrays(arr1, arr2):\n",
    "    arr1.extend(arr2)\n",
    "    arr1.sort() \n",
    "    n = len(arr1)\n",
    "    if n % 2 == 0:\n",
    "        return (arr1[(n//2) -1 ] + arr1[((n//2)+1)-1])/2\n",
    "    else:\n",
    "        return arr1[((n+1)//2)-1]\n",
    "        "
   ]
  },
  {
   "cell_type": "code",
   "execution_count": 439,
   "id": "5ca72373-1b7b-475d-96bd-79b893453ccf",
   "metadata": {},
   "outputs": [
    {
     "name": "stdout",
     "output_type": "stream",
     "text": [
      "The  time  taken to solve the problem is 2.86102294921875e-06 \n"
     ]
    },
    {
     "data": {
      "text/plain": [
       "2"
      ]
     },
     "execution_count": 439,
     "metadata": {},
     "output_type": "execute_result"
    }
   ],
   "source": [
    "median_two_sorteed_arrays(arr,arr2)"
   ]
  },
  {
   "cell_type": "code",
   "execution_count": 440,
   "id": "8e6029dd-8ba0-4072-92e3-56107ec85368",
   "metadata": {},
   "outputs": [],
   "source": [
    "# now we are making  the  decorators  which will be  used to  make the   calculation of time   more easy]\n",
    "\n",
    "def time_to(func):\n",
    "    def wrapper():\n",
    "        print(\"HEy how  are you \")\n",
    "        func()\n",
    "        print(\"This is the  wrapping  okk\")\n",
    "    return wrapper"
   ]
  },
  {
   "cell_type": "code",
   "execution_count": 441,
   "id": "ecb75fae-564f-4605-8e7d-1d5f3b1498fa",
   "metadata": {},
   "outputs": [],
   "source": [
    "class Solution:\n",
    "    @time_wrapper\n",
    "    def findMedianSortedArrays(self, nums1, nums2):\n",
    "        n1 = len(nums1)\n",
    "        n2 = len(nums2)\n",
    "        \n",
    "        # Ensure nums1 is the smaller array for simplicity\n",
    "        if n1 > n2:\n",
    "            return self.findMedianSortedArrays(nums2, nums1)\n",
    "        \n",
    "        n = n1 + n2\n",
    "        left = (n1 + n2 + 1) // 2 # Calculate the left partition size\n",
    "        low = 0\n",
    "        high = n1\n",
    "        \n",
    "        while low <= high:\n",
    "            mid1 = (low + high) // 2 # Calculate mid index for nums1\n",
    "            mid2 = left - mid1 # Calculate mid index for nums2\n",
    "            \n",
    "            l1 = float('-inf')\n",
    "            l2 = float('-inf')\n",
    "            r1 = float('inf')\n",
    "            r2 = float('inf')\n",
    "            \n",
    "            # Determine values of l1, l2, r1, and r2\n",
    "            if mid1 < n1:\n",
    "                r1 = nums1[mid1]\n",
    "            if mid2 < n2:\n",
    "                r2 = nums2[mid2]\n",
    "            if mid1 - 1 >= 0:\n",
    "                l1 = nums1[mid1 - 1]\n",
    "            if mid2 - 1 >= 0:\n",
    "                l2 = nums2[mid2 - 1]\n",
    "            \n",
    "            if l1 <= r2 and l2 <= r1:\n",
    "                # The partition is correct, we found the median\n",
    "                if n % 2 == 1:\n",
    "                    return max(l1, l2)\n",
    "                else:\n",
    "                    return (max(l1, l2) + min(r1, r2)) / 2.0\n",
    "            elif l1 > r2:\n",
    "                # Move towards the left side of nums1\n",
    "                high = mid1 - 1\n",
    "            else:\n",
    "                # Move towards the right side of nums1\n",
    "                low = mid1 + 1\n",
    "        \n",
    "        return 0 # If the code reaches here, the input arrays were not sorted.\n"
   ]
  },
  {
   "cell_type": "code",
   "execution_count": 442,
   "id": "ecf926e3-a445-4744-b595-948e23228fec",
   "metadata": {},
   "outputs": [
    {
     "data": {
      "text/plain": [
       "173291004398.23196"
      ]
     },
     "execution_count": 442,
     "metadata": {},
     "output_type": "execute_result"
    }
   ],
   "source": [
    "import time\n",
    "start = time.time()\n",
    "start*100"
   ]
  },
  {
   "cell_type": "code",
   "execution_count": 443,
   "id": "76a92566-fd04-4f0b-a874-ea0c07700ef4",
   "metadata": {},
   "outputs": [],
   "source": [
    "@time_to\n",
    "def say_hello():\n",
    "    print(\"Hello\")\n",
    "\n",
    "#   it is  basically the  syntatic sugar of the  thing  say_hello = time_to(say_hello) oka\n",
    "\n",
    "#  this  is  more  helpful in the   reusing  particular  peice  of the code many times  in the code\n",
    "\n"
   ]
  },
  {
   "cell_type": "code",
   "execution_count": 444,
   "id": "f407c5b0-baea-4783-985b-8890d7fed1e5",
   "metadata": {},
   "outputs": [
    {
     "name": "stdout",
     "output_type": "stream",
     "text": [
      "HEy how  are you \n",
      "Hello\n",
      "This is the  wrapping  okk\n"
     ]
    }
   ],
   "source": [
    "say_hello()"
   ]
  },
  {
   "cell_type": "code",
   "execution_count": 445,
   "id": "156ab6ca-c574-4865-a084-1ecc99648632",
   "metadata": {},
   "outputs": [
    {
     "name": "stdout",
     "output_type": "stream",
     "text": [
      "The  time  taken to solve the problem is 7.152557373046875e-06 \n"
     ]
    },
    {
     "data": {
      "text/plain": [
       "6.5"
      ]
     },
     "execution_count": 445,
     "metadata": {},
     "output_type": "execute_result"
    }
   ],
   "source": [
    "\n",
    "a = Solution()\n",
    "a.findMedianSortedArrays([1,2,5,8],[ 4, 8, 10, 15])"
   ]
  },
  {
   "cell_type": "code",
   "execution_count": 446,
   "id": "e312d171-907c-4af6-a167-721a9852a2b0",
   "metadata": {},
   "outputs": [
    {
     "name": "stdout",
     "output_type": "stream",
     "text": [
      "The  time  taken to solve the problem is 3.814697265625e-06 \n"
     ]
    },
    {
     "data": {
      "text/plain": [
       "6.5"
      ]
     },
     "execution_count": 446,
     "metadata": {},
     "output_type": "execute_result"
    }
   ],
   "source": [
    "median_two_sorteed_arrays([1,2,5,8],[ 4, 8, 10, 15])"
   ]
  },
  {
   "cell_type": "code",
   "execution_count": 447,
   "id": "320faf79-d53e-48c8-b3d8-42dbd7a5cbd3",
   "metadata": {},
   "outputs": [],
   "source": [
    "# so  one  thing  it  helps in the  term of  memoization  which helps  specially in the  fibonacci type of recursion  problem  ,  so  if you  are \n",
    "# calling the function again again  with same param then it  will  check in cache , fast accessing memory to solve the problem  , it is okay for small\n",
    "# problem "
   ]
  },
  {
   "cell_type": "code",
   "execution_count": 448,
   "id": "f38a3393-9da2-49bf-bf49-c05ca5d648d7",
   "metadata": {},
   "outputs": [],
   "source": [
    "def memoization(func):\n",
    "    def wrapper(*args, **kwargs):\n",
    "        cache = {}\n",
    "        if args in cache:\n",
    "            return cache[args]\n",
    "        rsult = func(*args)\n",
    "        cache[args] = rsult\n",
    "        return rsult\n",
    "    return wrapper\n",
    "        \n",
    "        "
   ]
  },
  {
   "cell_type": "code",
   "execution_count": 451,
   "id": "e07e3522-d987-4202-993a-7bb15b40dbb8",
   "metadata": {},
   "outputs": [],
   "source": [
    "@memoization\n",
    "@time_wrapper\n",
    "def fibonacci(n):\n",
    "    if n <= 1:\n",
    "        return n\n",
    "\n",
    "    else:\n",
    "        return fibonacci(n-1) + fibonacci(n-2)\n",
    "        "
   ]
  },
  {
   "cell_type": "code",
   "execution_count": 453,
   "id": "acb840a2-1e03-48f1-947c-e0ee8ae3d70a",
   "metadata": {},
   "outputs": [
    {
     "name": "stdout",
     "output_type": "stream",
     "text": [
      "The  time  taken to solve the problem is 2.384185791015625e-07 \n",
      "The  time  taken to solve the problem is 2.384185791015625e-07 \n",
      "The  time  taken to solve the problem is 4.172325134277344e-05 \n",
      "The  time  taken to solve the problem is 0.0 \n",
      "The  time  taken to solve the problem is 5.14984130859375e-05 \n",
      "The  time  taken to solve the problem is 2.384185791015625e-07 \n",
      "The  time  taken to solve the problem is 2.384185791015625e-07 \n",
      "The  time  taken to solve the problem is 9.5367431640625e-06 \n",
      "The  time  taken to solve the problem is 7.081031799316406e-05 \n",
      "The  time  taken to solve the problem is 0.0 \n",
      "The  time  taken to solve the problem is 0.0 \n",
      "The  time  taken to solve the problem is 8.106231689453125e-06 \n",
      "The  time  taken to solve the problem is 2.384185791015625e-07 \n",
      "The  time  taken to solve the problem is 1.7404556274414062e-05 \n",
      "The  time  taken to solve the problem is 9.775161743164062e-05 \n",
      "The  time  taken to solve the problem is 2.384185791015625e-07 \n",
      "The  time  taken to solve the problem is 0.0 \n",
      "The  time  taken to solve the problem is 8.821487426757812e-06 \n",
      "The  time  taken to solve the problem is 0.0 \n",
      "The  time  taken to solve the problem is 1.6689300537109375e-05 \n",
      "The  time  taken to solve the problem is 0.0 \n",
      "The  time  taken to solve the problem is 0.0 \n",
      "The  time  taken to solve the problem is 7.62939453125e-06 \n",
      "The  time  taken to solve the problem is 3.4332275390625e-05 \n",
      "The  time  taken to solve the problem is 0.0001418590545654297 \n",
      "The  time  taken to solve the problem is 2.384185791015625e-07 \n",
      "The  time  taken to solve the problem is 0.0 \n",
      "The  time  taken to solve the problem is 9.298324584960938e-06 \n",
      "The  time  taken to solve the problem is 2.384185791015625e-07 \n",
      "The  time  taken to solve the problem is 1.8358230590820312e-05 \n",
      "The  time  taken to solve the problem is 2.384185791015625e-07 \n",
      "The  time  taken to solve the problem is 2.384185791015625e-07 \n",
      "The  time  taken to solve the problem is 8.821487426757812e-06 \n",
      "The  time  taken to solve the problem is 3.647804260253906e-05 \n",
      "The  time  taken to solve the problem is 2.384185791015625e-07 \n",
      "The  time  taken to solve the problem is 0.0 \n",
      "The  time  taken to solve the problem is 8.106231689453125e-06 \n",
      "The  time  taken to solve the problem is 2.384185791015625e-07 \n",
      "The  time  taken to solve the problem is 1.6450881958007812e-05 \n",
      "The  time  taken to solve the problem is 6.151199340820312e-05 \n",
      "The  time  taken to solve the problem is 0.00021219253540039062 \n",
      "The  time  taken to solve the problem is 0.0 \n",
      "The  time  taken to solve the problem is 0.0 \n",
      "The  time  taken to solve the problem is 7.62939453125e-06 \n",
      "The  time  taken to solve the problem is 0.0 \n",
      "The  time  taken to solve the problem is 1.5497207641601562e-05 \n",
      "The  time  taken to solve the problem is 2.384185791015625e-07 \n",
      "The  time  taken to solve the problem is 2.384185791015625e-07 \n",
      "The  time  taken to solve the problem is 9.059906005859375e-06 \n",
      "The  time  taken to solve the problem is 3.2901763916015625e-05 \n",
      "The  time  taken to solve the problem is 2.384185791015625e-07 \n",
      "The  time  taken to solve the problem is 2.384185791015625e-07 \n",
      "The  time  taken to solve the problem is 8.821487426757812e-06 \n",
      "The  time  taken to solve the problem is 2.384185791015625e-07 \n",
      "The  time  taken to solve the problem is 1.7642974853515625e-05 \n",
      "The  time  taken to solve the problem is 5.984306335449219e-05 \n",
      "The  time  taken to solve the problem is 0.0 \n",
      "The  time  taken to solve the problem is 0.0 \n",
      "The  time  taken to solve the problem is 6.4373016357421875e-06 \n",
      "The  time  taken to solve the problem is 0.0 \n",
      "The  time  taken to solve the problem is 1.2636184692382812e-05 \n",
      "The  time  taken to solve the problem is 2.384185791015625e-07 \n",
      "The  time  taken to solve the problem is 0.0 \n",
      "The  time  taken to solve the problem is 6.4373016357421875e-06 \n",
      "The  time  taken to solve the problem is 2.6464462280273438e-05 \n",
      "The  time  taken to solve the problem is 9.608268737792969e-05 \n",
      "The  time  taken to solve the problem is 0.0003170967102050781 \n",
      "The  time  taken to solve the problem is 0.0 \n",
      "The  time  taken to solve the problem is 2.384185791015625e-07 \n",
      "The  time  taken to solve the problem is 6.67572021484375e-06 \n",
      "The  time  taken to solve the problem is 0.0 \n",
      "The  time  taken to solve the problem is 1.3113021850585938e-05 \n",
      "The  time  taken to solve the problem is 0.0 \n",
      "The  time  taken to solve the problem is 0.0 \n",
      "The  time  taken to solve the problem is 6.4373016357421875e-06 \n",
      "The  time  taken to solve the problem is 2.6226043701171875e-05 \n",
      "The  time  taken to solve the problem is 0.0 \n",
      "The  time  taken to solve the problem is 0.0 \n",
      "The  time  taken to solve the problem is 6.198883056640625e-06 \n",
      "The  time  taken to solve the problem is 2.384185791015625e-07 \n",
      "The  time  taken to solve the problem is 1.33514404296875e-05 \n",
      "The  time  taken to solve the problem is 4.673004150390625e-05 \n",
      "The  time  taken to solve the problem is 2.384185791015625e-07 \n",
      "The  time  taken to solve the problem is 0.0 \n",
      "The  time  taken to solve the problem is 7.152557373046875e-06 \n",
      "The  time  taken to solve the problem is 0.0 \n",
      "The  time  taken to solve the problem is 1.3589859008789062e-05 \n",
      "The  time  taken to solve the problem is 0.0 \n",
      "The  time  taken to solve the problem is 0.0 \n",
      "The  time  taken to solve the problem is 6.4373016357421875e-06 \n",
      "The  time  taken to solve the problem is 2.6941299438476562e-05 \n",
      "The  time  taken to solve the problem is 8.034706115722656e-05 \n",
      "The  time  taken to solve the problem is 2.384185791015625e-07 \n",
      "The  time  taken to solve the problem is 0.0 \n",
      "The  time  taken to solve the problem is 6.67572021484375e-06 \n",
      "The  time  taken to solve the problem is 4.76837158203125e-07 \n",
      "The  time  taken to solve the problem is 1.3589859008789062e-05 \n",
      "The  time  taken to solve the problem is 0.0 \n",
      "The  time  taken to solve the problem is 2.384185791015625e-07 \n",
      "The  time  taken to solve the problem is 6.67572021484375e-06 \n",
      "The  time  taken to solve the problem is 2.6702880859375e-05 \n",
      "The  time  taken to solve the problem is 0.0 \n",
      "The  time  taken to solve the problem is 0.0 \n",
      "The  time  taken to solve the problem is 6.4373016357421875e-06 \n",
      "The  time  taken to solve the problem is 0.0 \n",
      "The  time  taken to solve the problem is 1.2636184692382812e-05 \n",
      "The  time  taken to solve the problem is 4.6253204345703125e-05 \n",
      "The  time  taken to solve the problem is 0.000133514404296875 \n",
      "The  time  taken to solve the problem is 0.000457763671875 \n",
      "The  time  taken to solve the problem is 0.0 \n",
      "The  time  taken to solve the problem is 0.0 \n",
      "The  time  taken to solve the problem is 6.198883056640625e-06 \n",
      "The  time  taken to solve the problem is 2.384185791015625e-07 \n",
      "The  time  taken to solve the problem is 1.2874603271484375e-05 \n",
      "The  time  taken to solve the problem is 0.0 \n",
      "The  time  taken to solve the problem is 2.384185791015625e-07 \n",
      "The  time  taken to solve the problem is 6.67572021484375e-06 \n",
      "The  time  taken to solve the problem is 2.6464462280273438e-05 \n",
      "The  time  taken to solve the problem is 0.0 \n",
      "The  time  taken to solve the problem is 2.384185791015625e-07 \n",
      "The  time  taken to solve the problem is 6.4373016357421875e-06 \n",
      "The  time  taken to solve the problem is 2.384185791015625e-07 \n",
      "The  time  taken to solve the problem is 1.3828277587890625e-05 \n",
      "The  time  taken to solve the problem is 4.696846008300781e-05 \n",
      "The  time  taken to solve the problem is 2.384185791015625e-07 \n",
      "The  time  taken to solve the problem is 0.0 \n",
      "The  time  taken to solve the problem is 1.430511474609375e-05 \n",
      "The  time  taken to solve the problem is 2.384185791015625e-07 \n",
      "The  time  taken to solve the problem is 2.1457672119140625e-05 \n",
      "The  time  taken to solve the problem is 0.0 \n",
      "The  time  taken to solve the problem is 0.0 \n",
      "The  time  taken to solve the problem is 5.9604644775390625e-06 \n",
      "The  time  taken to solve the problem is 3.457069396972656e-05 \n",
      "The  time  taken to solve the problem is 8.821487426757812e-05 \n",
      "The  time  taken to solve the problem is 0.0 \n",
      "The  time  taken to solve the problem is 0.0 \n",
      "The  time  taken to solve the problem is 6.198883056640625e-06 \n",
      "The  time  taken to solve the problem is 0.0 \n",
      "The  time  taken to solve the problem is 1.2636184692382812e-05 \n",
      "The  time  taken to solve the problem is 2.384185791015625e-07 \n",
      "The  time  taken to solve the problem is 2.384185791015625e-07 \n",
      "The  time  taken to solve the problem is 7.152557373046875e-06 \n",
      "The  time  taken to solve the problem is 2.6702880859375e-05 \n",
      "The  time  taken to solve the problem is 0.0 \n",
      "The  time  taken to solve the problem is 0.0 \n",
      "The  time  taken to solve the problem is 6.198883056640625e-06 \n",
      "The  time  taken to solve the problem is 0.0 \n",
      "The  time  taken to solve the problem is 1.2636184692382812e-05 \n",
      "The  time  taken to solve the problem is 4.6253204345703125e-05 \n",
      "The  time  taken to solve the problem is 0.000141143798828125 \n",
      "The  time  taken to solve the problem is 2.384185791015625e-07 \n",
      "The  time  taken to solve the problem is 2.384185791015625e-07 \n",
      "The  time  taken to solve the problem is 7.3909759521484375e-06 \n",
      "The  time  taken to solve the problem is 0.0 \n",
      "The  time  taken to solve the problem is 1.33514404296875e-05 \n",
      "The  time  taken to solve the problem is 0.0 \n",
      "The  time  taken to solve the problem is 0.0 \n",
      "The  time  taken to solve the problem is 6.198883056640625e-06 \n",
      "The  time  taken to solve the problem is 2.6702880859375e-05 \n",
      "The  time  taken to solve the problem is 0.0 \n",
      "The  time  taken to solve the problem is 0.0 \n",
      "The  time  taken to solve the problem is 6.198883056640625e-06 \n",
      "The  time  taken to solve the problem is 2.384185791015625e-07 \n",
      "The  time  taken to solve the problem is 1.3113021850585938e-05 \n",
      "The  time  taken to solve the problem is 4.649162292480469e-05 \n",
      "The  time  taken to solve the problem is 2.384185791015625e-07 \n",
      "The  time  taken to solve the problem is 2.384185791015625e-07 \n",
      "The  time  taken to solve the problem is 8.106231689453125e-06 \n",
      "The  time  taken to solve the problem is 0.0 \n",
      "The  time  taken to solve the problem is 1.4781951904296875e-05 \n",
      "The  time  taken to solve the problem is 0.0 \n",
      "The  time  taken to solve the problem is 0.0 \n",
      "The  time  taken to solve the problem is 6.198883056640625e-06 \n",
      "The  time  taken to solve the problem is 2.7894973754882812e-05 \n",
      "The  time  taken to solve the problem is 8.106231689453125e-05 \n",
      "The  time  taken to solve the problem is 0.00022912025451660156 \n",
      "The  time  taken to solve the problem is 0.00069427490234375 \n"
     ]
    },
    {
     "data": {
      "text/plain": [
       "55"
      ]
     },
     "execution_count": 453,
     "metadata": {},
     "output_type": "execute_result"
    }
   ],
   "source": [
    "fibonacci(10)"
   ]
  },
  {
   "cell_type": "code",
   "execution_count": null,
   "id": "2faa3c93-76ce-4c14-9377-99c61b0b1b17",
   "metadata": {},
   "outputs": [],
   "source": []
  },
  {
   "cell_type": "code",
   "execution_count": 455,
   "id": "a424a17e-c415-4488-b4ea-50a47c72f529",
   "metadata": {},
   "outputs": [],
   "source": [
    "#   basically  we  are  using just   binary search framework  to get the  answerr  without sorting the merged  array \n",
    "# and getting the best time  complexity   o(log(m+n))\n",
    "# m - sizeof  the first (viceversa)\n",
    "\n",
    "#  we  use  the  binary search framework  to bypass the sorting thing  and  get the  optimal answer\n",
    "\n",
    "# by using boundaries  we  get the    answer l1,l2,r1,r2\n"
   ]
  },
  {
   "cell_type": "code",
   "execution_count": 469,
   "id": "12570aee-910e-457a-925a-8378698ffd0d",
   "metadata": {},
   "outputs": [],
   "source": [
    "def find_median_two_sorted(arr, arr1):\n",
    "    n1 = len(arr)\n",
    "    n2 = len(arr1)\n",
    "    if n2>n1:\n",
    "        return find_median_two_sorted(arr1, arr)\n",
    "\n",
    "    n = n1+n2\n",
    "    left = (n1 + n2 + 1) // 2\n",
    "    low = 0\n",
    "    high = n1\n",
    "    while (low<= high):\n",
    "        mid1 = (low + high) //2\n",
    "        mid2 = left - mid1\n",
    "\n",
    "        l1 = float('-inf')\n",
    "        l2 = float('-inf')\n",
    "        r1 = float('inf')\n",
    "        r2 = float('inf')\n",
    "\n",
    "        if mid1 < n1:\n",
    "            r1 = arr[mid1]\n",
    "        if mid2<n2:\n",
    "            r2 = arr1[mid2]\n",
    "\n",
    "        if mid1 - 1 >=0:\n",
    "            l1 = arr[mid1-1]\n",
    "            \n",
    "        if mid2 - 1 >=0:\n",
    "            l1 = arr1[mid2-1]\n",
    "\n",
    "        if l1 <= r2 and l2<=r1:\n",
    "            if (n % 2 == 1) :\n",
    "                return max(l1,l2)\n",
    "            else:\n",
    "                return (max(l1,l2) + min(r1,r2)) / 2\n",
    "        elif l1 > r2:\n",
    "            high = mid1-1\n",
    "\n",
    "        else:\n",
    "            low = mid1 + 1\n",
    "\n",
    "    return 0\n",
    "\n",
    "        "
   ]
  },
  {
   "cell_type": "code",
   "execution_count": 470,
   "id": "8acd5474-6922-40d8-adf7-60c8774cfb56",
   "metadata": {},
   "outputs": [
    {
     "data": {
      "text/plain": [
       "6.5"
      ]
     },
     "execution_count": 470,
     "metadata": {},
     "output_type": "execute_result"
    }
   ],
   "source": [
    "find_median_two_sorted([1,2,5,8],[ 4, 8, 10, 15])"
   ]
  },
  {
   "cell_type": "code",
   "execution_count": null,
   "id": "b1c24528-457e-4d1c-9432-1f064d90a27c",
   "metadata": {},
   "outputs": [],
   "source": [
    "#   thing is to  findthe  nth day when  he  will be able  to complete the  estimated  walk (atleast)"
   ]
  },
  {
   "cell_type": "code",
   "execution_count": null,
   "id": "537e64db-6e13-415c-92cf-c0c134c548f7",
   "metadata": {},
   "outputs": [
    {
     "name": "stdin",
     "output_type": "stream",
     "text": [
      " 1\n",
      " 12 1 5 3\n"
     ]
    }
   ],
   "source": [
    "t = int(input())\n",
    "n, a, b, c = list(map(int, input().split()))\n",
    "\n",
    "\n",
    "def sd(n, x, y, z, d =3):\n",
    "    o_ = [x, y, z]\n",
    "    su = x + y + z\n",
    "    for j in o_:\n",
    "        su+=j\n",
    "        if su>=n:\n",
    "            return  d + 1\n",
    "        else:\n",
    "            return(sd(n, x, y, z))\n",
    "    return d\n",
    "def run(n, a, b, c):\n",
    "    su = a + b+ c\n",
    "    d =3\n",
    "    if su>=n:\n",
    "        return 3\n",
    "\n",
    "    elif (a == 1 and b == 1 and c == 1):\n",
    "        return n\n",
    "        \n",
    "    else:\n",
    "        return(sd(n, a, b, c))\n",
    "                \n",
    "\n",
    "run(n, a, b, c)\n"
   ]
  },
  {
   "cell_type": "code",
   "execution_count": 13,
   "id": "c3a85588-28b1-4d1f-b0b4-0e6a2df7620a",
   "metadata": {},
   "outputs": [],
   "source": []
  },
  {
   "cell_type": "code",
   "execution_count": 26,
   "id": "44156532-e6f6-4da6-9b0b-6c5bf597faea",
   "metadata": {},
   "outputs": [
    {
     "ename": "UnboundLocalError",
     "evalue": "cannot access local variable 'su' where it is not associated with a value",
     "output_type": "error",
     "traceback": [
      "\u001b[0;31m---------------------------------------------------------------------------\u001b[0m",
      "\u001b[0;31mUnboundLocalError\u001b[0m                         Traceback (most recent call last)",
      "Cell \u001b[0;32mIn[26], line 15\u001b[0m\n\u001b[1;32m     12\u001b[0m         \u001b[38;5;28;01melse\u001b[39;00m:\n\u001b[1;32m     13\u001b[0m             \u001b[38;5;28;01mbreak\u001b[39;00m\n\u001b[0;32m---> 15\u001b[0m \u001b[43mdf\u001b[49m\u001b[43m(\u001b[49m\u001b[43mn\u001b[49m\u001b[43m,\u001b[49m\u001b[43mj\u001b[49m\u001b[43m)\u001b[49m\n",
      "Cell \u001b[0;32mIn[26], line 7\u001b[0m, in \u001b[0;36mdf\u001b[0;34m(n, j)\u001b[0m\n\u001b[1;32m      5\u001b[0m \u001b[38;5;28;01mdef\u001b[39;00m \u001b[38;5;21mdf\u001b[39m(n, j):\n\u001b[1;32m      6\u001b[0m     \u001b[38;5;28;01mfor\u001b[39;00m i \u001b[38;5;129;01min\u001b[39;00m j:\n\u001b[0;32m----> 7\u001b[0m         \u001b[43msu\u001b[49m \u001b[38;5;241m+\u001b[39m\u001b[38;5;241m=\u001b[39m i\n\u001b[1;32m      8\u001b[0m         \u001b[38;5;28mprint\u001b[39m(su)\n\u001b[1;32m      9\u001b[0m         \u001b[38;5;28;01mif\u001b[39;00m su\u001b[38;5;241m>\u001b[39m\u001b[38;5;241m=\u001b[39mn:\n",
      "\u001b[0;31mUnboundLocalError\u001b[0m: cannot access local variable 'su' where it is not associated with a value"
     ]
    }
   ],
   "source": [
    "j = [4, 9, 12]\n",
    "su = 25\n",
    "n = 30\n",
    "d = 3\n",
    "def df(n, j):\n",
    "    for i in j:\n",
    "        su += i\n",
    "        print(su)\n",
    "        if su>=n:\n",
    "            d += 1\n",
    "            print(d)\n",
    "        else:\n",
    "            break\n",
    "\n",
    "df(n,j)"
   ]
  },
  {
   "cell_type": "code",
   "execution_count": null,
   "id": "e99163fa-1762-4935-a6ac-4b336e1ffabf",
   "metadata": {},
   "outputs": [],
   "source": [
    "def sd(n, x, y, z):\n",
    "    o_ = [x, y, z]\n",
    "    su = a + b+ c\n",
    "\n",
    "    for j in o_:\n",
    "        su+=j\n",
    "        if su>=n:\n",
    "            d += 1\n",
    "            return d\n",
    "        else:\n",
    "            sd(n, x, y, z)\n",
    "\n",
    "sd(12, 1, 5, 3"
   ]
  },
  {
   "cell_type": "code",
   "execution_count": null,
   "id": "6e117f20-0fc2-4d5e-9e30-548af479e716",
   "metadata": {},
   "outputs": [],
   "source": []
  },
  {
   "cell_type": "code",
   "execution_count": null,
   "id": "b3035196-f6c6-4d61-b2dc-63ef659fc3bd",
   "metadata": {},
   "outputs": [],
   "source": []
  },
  {
   "cell_type": "code",
   "execution_count": 7,
   "id": "6881993a-9df7-4b81-b1b5-6d43d092725c",
   "metadata": {},
   "outputs": [
    {
     "name": "stdin",
     "output_type": "stream",
     "text": [
      " 1\n",
      " 12 1 5 3\n"
     ]
    },
    {
     "name": "stdout",
     "output_type": "stream",
     "text": [
      "15\n",
      "5\n"
     ]
    }
   ],
   "source": [
    "t = int(input())\n",
    "n, a, b, c = list(map(int, input().split()))\n",
    "d = 3\n",
    "su = a + b + c\n"
   ]
  },
  {
   "cell_type": "code",
   "execution_count": 10,
   "id": "9b47d68e-b14d-424e-a4cb-36bfb139edbf",
   "metadata": {},
   "outputs": [
    {
     "name": "stdin",
     "output_type": "stream",
     "text": [
      " 1\n",
      " 12 1 5 3\n"
     ]
    },
    {
     "name": "stdout",
     "output_type": "stream",
     "text": [
      "15\n",
      "5\n"
     ]
    }
   ],
   "source": [
    "t = int(input())\n",
    "\n",
    "for i in range(t):\n",
    "    n, a, b, c = list(map(int, input().split()))\n",
    "\n",
    "def run(n, a, b, c):\n",
    "    d = 3\n",
    "    su = a + b + c\n",
    "\n",
    "    if su>=n:\n",
    "        return 3\n",
    "\n",
    "    elif (a == 1 and b == 1 and c == 1):\n",
    "        return n\n",
    "        \n",
    "    else:\n",
    "        while True:\n",
    "            if su<=n:\n",
    "                for i in [a, b, c]:\n",
    "                    su += i\n",
    "                    d+=1\n",
    "                    if su>=n:\n",
    "                        print(su)\n",
    "                        print(d)\n",
    "                        break\n",
    "            else:\n",
    "                break\n",
    "\n",
    "\n",
    "run(n, a, b, c)"
   ]
  },
  {
   "cell_type": "code",
   "execution_count": null,
   "id": "3856ff9d-27ca-433a-8cf2-541be4aeff15",
   "metadata": {},
   "outputs": [],
   "source": [
    "4\n",
    "12 1 5 3\n",
    "6 6 7 4\n",
    "16 3 4 1\n",
    "1000000000 1 1 1\n"
   ]
  },
  {
   "cell_type": "code",
   "execution_count": 24,
   "id": "43c581d2-eaa6-43db-b305-e8b906ed599f",
   "metadata": {},
   "outputs": [
    {
     "name": "stdin",
     "output_type": "stream",
     "text": [
      " 1\n",
      " 12 1 5 3\n"
     ]
    },
    {
     "name": "stdout",
     "output_type": "stream",
     "text": [
      "5\n"
     ]
    }
   ],
   "source": [
    "t = int(input())\n",
    "while t:\n",
    "    n, a, b, c = list(map(int, input().split()))\n",
    "    def run(n, a, b, c):\n",
    "        d = 3\n",
    "        su = a + b + c\n",
    "\n",
    "        if n in [a, b, c]:\n",
    "            return 1\n",
    "            \n",
    "        if su>=n:\n",
    "            return 3\n",
    "    \n",
    "        elif (a == 1 and b == 1 and c == 1):\n",
    "            return n\n",
    "        else:\n",
    "            while True:\n",
    "                if su<=n:\n",
    "                    for i in [a, b, c]:\n",
    "                        su += i\n",
    "                        d+=1\n",
    "                        if su>=n:\n",
    "                            # print(su)\n",
    "                            return d\n",
    "                            # break\n",
    "                else:\n",
    "                    break\n",
    "    \n",
    "    \n",
    "    print(run(n, a, b, c))\n",
    "\n",
    "    t-=1"
   ]
  },
  {
   "cell_type": "code",
   "execution_count": null,
   "id": "7045ed07-e1d7-4e4a-9cbb-d2a603672151",
   "metadata": {},
   "outputs": [],
   "source": []
  },
  {
   "cell_type": "code",
   "execution_count": null,
   "id": "3657615e-6a4e-4f74-b1b0-503f28b4ba2a",
   "metadata": {},
   "outputs": [],
   "source": []
  },
  {
   "cell_type": "code",
   "execution_count": 16,
   "id": "357b4c36-e7cc-404b-b4a2-2e96f8042794",
   "metadata": {},
   "outputs": [
    {
     "data": {
      "text/plain": [
       "True"
      ]
     },
     "execution_count": 16,
     "metadata": {},
     "output_type": "execute_result"
    }
   ],
   "source": [
    "n = 6\n",
    "a = 6\n",
    "b = 7\n",
    "c =4\n",
    "s = [a, b, c]\n",
    "\n",
    "n in s"
   ]
  },
  {
   "cell_type": "code",
   "execution_count": 2,
   "id": "65603658-6a1a-4d81-83f0-c4cd21b902a7",
   "metadata": {},
   "outputs": [],
   "source": [
    "# #   one question is  here  let's  check it out \n",
    "\n",
    "# we have  three  \n",
    "# constraint \n",
    "\n",
    "# when k = n-2 no  question is answered \n",
    "# k = n when  all question M know's \n",
    "# k = n-1 when only one  question knows  \n",
    "\n",
    "\n",
    "# 4\n",
    "# 4 4 3\n",
    "# 1 2 3 4\n",
    "# 1 3 4\n",
    "\n",
    "# 5 4 3\n",
    "# 1 2 3 4\n",
    "# 1 3 4\n",
    "\n",
    "# 4 4 4\n",
    "# 1 2 3 4\n",
    "# 1 2 3 4\n",
    "\n",
    "# 2 2 1\n",
    "# 1 2\n",
    "# 2\n",
    "\n",
    "\n",
    "\n",
    "\n",
    "# 0100\n",
    "# 0000\n",
    "# 1111\n",
    "# 10\n",
    "\n",
    "\n",
    "\n",
    "4\n",
    "2\n",
    "3 2\n",
    "2 1\n",
    "1\n",
    "5\n",
    "8\n",
    "3\n",
    "1 1 1\n",
    "2 2 2\n",
    "6\n",
    "8 2 5 6 2 6\n",
    "8 2 7 4 3 4\n",
    "1\n"
   ]
  },
  {
   "cell_type": "code",
   "execution_count": 22,
   "id": "13870c04-4a38-431d-8821-9f10a5893f19",
   "metadata": {},
   "outputs": [
    {
     "name": "stdin",
     "output_type": "stream",
     "text": [
      " 4\n",
      " 2\n",
      " 3 2\n",
      " 2 1\n"
     ]
    },
    {
     "name": "stdout",
     "output_type": "stream",
     "text": [
      "4\n"
     ]
    },
    {
     "name": "stdin",
     "output_type": "stream",
     "text": [
      " 3\n",
      " 1 1 1\n",
      " 2 2 2\n"
     ]
    },
    {
     "name": "stdout",
     "output_type": "stream",
     "text": [
      "1\n"
     ]
    },
    {
     "name": "stdin",
     "output_type": "stream",
     "text": [
      " 1\n",
      " 5\n",
      " 8\n"
     ]
    },
    {
     "name": "stdout",
     "output_type": "stream",
     "text": [
      "5\n"
     ]
    },
    {
     "name": "stdin",
     "output_type": "stream",
     "text": [
      " 6\n",
      " 8 2 5 6 2 6\n",
      " 8 2 7 4 3 4\n"
     ]
    },
    {
     "name": "stdout",
     "output_type": "stream",
     "text": [
      "16\n"
     ]
    }
   ],
   "source": [
    "# A 995 Div 3\n",
    "\n",
    "t = int(input())\n",
    "while t:\n",
    "    m_s = 0\n",
    "    n = int(input())\n",
    "    a = list(map(int, input().split()))\n",
    "    b = list(map(int, input().split()))\n",
    "\n",
    "    if len(a) == 1:\n",
    "        print(a[0])\n",
    "    \n",
    "    else:\n",
    "        for i in range(n-1):\n",
    "            if a[i]-b[i+1] >= 0:\n",
    "                m_s += a[i]-b[i+1]\n",
    "                # print(a[i],b[i+1])\n",
    "            else:\n",
    "                continue\n",
    "        \n",
    "        print(m_s+a[-1])\n",
    "    t-=1\n",
    "            \n",
    "            \n",
    "    "
   ]
  },
  {
   "cell_type": "code",
   "execution_count": null,
   "id": "5072d5a2-28e7-4962-bc6b-f53b59cc05e2",
   "metadata": {},
   "outputs": [],
   "source": []
  },
  {
   "cell_type": "code",
   "execution_count": null,
   "id": "62e95ad2-70a3-4470-ad10-3479e55a2bef",
   "metadata": {},
   "outputs": [],
   "source": []
  },
  {
   "cell_type": "code",
   "execution_count": null,
   "id": "fe4a7c34-7d3d-4dd4-918e-5401daed05d6",
   "metadata": {},
   "outputs": [],
   "source": []
  },
  {
   "cell_type": "code",
   "execution_count": null,
   "id": "6c4e3b1a-efcd-41a7-9502-7e7b8397ffbd",
   "metadata": {},
   "outputs": [],
   "source": []
  },
  {
   "cell_type": "code",
   "execution_count": null,
   "id": "d4ccce69-a3b1-4a32-ba6b-b7ca2c60fda8",
   "metadata": {},
   "outputs": [],
   "source": []
  },
  {
   "cell_type": "code",
   "execution_count": null,
   "id": "a382bf08-7823-4b13-8580-88d424cd5e0c",
   "metadata": {},
   "outputs": [],
   "source": []
  },
  {
   "cell_type": "code",
   "execution_count": null,
   "id": "30daf9ac-905a-42d9-9558-29d4a578ea5a",
   "metadata": {},
   "outputs": [],
   "source": []
  }
 ],
 "metadata": {
  "kernelspec": {
   "display_name": "Python 3 (ipykernel)",
   "language": "python",
   "name": "python3"
  },
  "language_info": {
   "codemirror_mode": {
    "name": "ipython",
    "version": 3
   },
   "file_extension": ".py",
   "mimetype": "text/x-python",
   "name": "python",
   "nbconvert_exporter": "python",
   "pygments_lexer": "ipython3",
   "version": "3.13.1"
  }
 },
 "nbformat": 4,
 "nbformat_minor": 5
}
